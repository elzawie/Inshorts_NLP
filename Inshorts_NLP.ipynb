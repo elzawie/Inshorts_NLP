{
 "cells": [
  {
   "cell_type": "markdown",
   "metadata": {
    "extensions": {
     "jupyter_dashboards": {
      "version": 1,
      "views": {
       "grid_default": {
        "col": 0,
        "height": 4,
        "hidden": false,
        "row": 0,
        "width": 4
       },
       "report_default": {}
      }
     }
    }
   },
   "source": [
    "# General information\n",
    "\n",
    "____________________"
   ]
  },
  {
   "cell_type": "markdown",
   "metadata": {
    "extensions": {
     "jupyter_dashboards": {
      "version": 1,
      "views": {
       "grid_default": {
        "col": 0,
        "height": 9,
        "hidden": false,
        "row": 4,
        "width": 12
       },
       "report_default": {}
      }
     }
    }
   },
   "source": [
    "In this Jupyter Notebook we will be working with news articles retrieved from <a href='https://inshorts.com'> Inshorts.com</a> a website that gives us short, 60-word news articles on a wide variety of topics. Inshorts provides news for 12 thematically different sets of content like: Sports, Politics, Business and Technology.\n",
    "\n",
    "The main focus is to cover some aspects of NLP like:\n",
    "- Data retrieval with web scraping\n",
    "- Text wrangling and pre-processing\n",
    "- Parts of Speech tagging + visualizing dependencies\n",
    "- Named Entity Recognition\n",
    "- Feature Engineering\n",
    "- Building classifiers able to recognize type of content based on words used in the article\n",
    "\n",
    "Let's start off by importing all necessary packages."
   ]
  },
  {
   "cell_type": "markdown",
   "metadata": {
    "extensions": {
     "jupyter_dashboards": {
      "version": 1,
      "views": {
       "grid_default": {
        "col": 0,
        "height": 4,
        "hidden": false,
        "row": 13,
        "width": 12
       },
       "report_default": {}
      }
     }
    }
   },
   "source": [
    "# Importing necessary libraries\n",
    "\n",
    "_________________________"
   ]
  },
  {
   "cell_type": "code",
   "execution_count": 1,
   "metadata": {
    "extensions": {
     "jupyter_dashboards": {
      "version": 1,
      "views": {
       "grid_default": {
        "hidden": true
       },
       "report_default": {}
      }
     }
    }
   },
   "outputs": [
    {
     "name": "stderr",
     "output_type": "stream",
     "text": [
      "Using TensorFlow backend.\n"
     ]
    }
   ],
   "source": [
    "# Basic modules for dataframe manipulation\n",
    "import pandas as pd\n",
    "import numpy as np\n",
    "import os\n",
    "\n",
    "# Visualization\n",
    "import matplotlib.pyplot as plt\n",
    "import seaborn as sns\n",
    "%matplotlib inline\n",
    "\n",
    "# Web scraping\n",
    "from selenium import webdriver\n",
    "from bs4 import BeautifulSoup\n",
    "from time import sleep\n",
    "\n",
    "# NLP\n",
    "import spacy\n",
    "import nltk\n",
    "from nltk.tokenize.toktok import ToktokTokenizer\n",
    "from contractions import CONTRACTION_MAP\n",
    "import re\n",
    "import unicodedata\n",
    "\n",
    "# Feature Engineering and training/testing dataset creation\n",
    "from sklearn.model_selection import train_test_split\n",
    "from sklearn.feature_extraction.text import TfidfVectorizer\n",
    "from keras.preprocessing import text, sequence\n",
    "\n",
    "# Machine Learning\n",
    "from sklearn.naive_bayes import MultinomialNB\n",
    "from sklearn.linear_model import LogisticRegression\n",
    "from sklearn.svm import LinearSVC\n",
    "from keras import layers, models, optimizers\n",
    "from keras.callbacks import ModelCheckpoint\n",
    "import tensorflow as tf\n",
    "\n",
    "# Prediction assessment\n",
    "from helper import print_score, create_confmat, report, plot_auc\n",
    "\n",
    "# Checking if GPU is available\n",
    "tf.test.gpu_device_name()\n",
    "tf.test.is_gpu_available(cuda_only=False)"
   ]
  },
  {
   "cell_type": "markdown",
   "metadata": {
    "extensions": {
     "jupyter_dashboards": {
      "version": 1,
      "views": {
       "grid_default": {
        "col": 4,
        "height": 4,
        "hidden": false,
        "row": 0,
        "width": 4
       },
       "report_default": {}
      }
     }
    }
   },
   "source": [
    "# Retrieving data\n",
    "_____________________"
   ]
  },
  {
   "cell_type": "markdown",
   "metadata": {
    "extensions": {
     "jupyter_dashboards": {
      "version": 1,
      "views": {
       "grid_default": {
        "col": 0,
        "height": 4,
        "hidden": false,
        "row": 17,
        "width": 12
       },
       "report_default": {}
      }
     }
    }
   },
   "source": [
    "In this section we will focus on creating a function for gathering news data from <a href='https://inshorts.com'>Inshorts.com</a>. Since articles are divided by topic and each category displays only ~ 25 articles, we need a solution which will trigger the 'Load more' button desired number of times before retrieving the data and creating a DataFrame, we will achieve this by utilizing Selenium - a popular testing framework - and ChromeDriver. For those who prefer Firefox over Chrome, there is a possibility to use Mozilla's GeckoDriver with Selenium."
   ]
  },
  {
   "cell_type": "code",
   "execution_count": 2,
   "metadata": {
    "extensions": {
     "jupyter_dashboards": {
      "version": 1,
      "views": {
       "grid_default": {
        "hidden": true
       },
       "report_default": {}
      }
     }
    }
   },
   "outputs": [],
   "source": [
    "source_urls = ['https://inshorts.com/en/read/business',\n",
    "               'https://inshorts.com/en/read/technology',\n",
    "               'https://inshorts.com/en/read/science',\n",
    "               'https://inshorts.com/en/read/world',\n",
    "               'https://inshorts.com/en/read/sports',\n",
    "               'https://inshorts.com/en/read/politics',\n",
    "               'https://inshorts.com/en/read/entertainment',\n",
    "               'https://inshorts.com/en/read/hatke',\n",
    "               'https://inshorts.com/en/read/automobile']\n",
    "\n",
    "PATH = 'chromedriver.exe'"
   ]
  },
  {
   "cell_type": "code",
   "execution_count": 3,
   "metadata": {
    "extensions": {
     "jupyter_dashboards": {
      "version": 1,
      "views": {
       "grid_default": {
        "hidden": true
       },
       "report_default": {}
      }
     }
    }
   },
   "outputs": [],
   "source": [
    "def get_data(seed_urls):\n",
    "    news_data = []\n",
    "    for url in seed_urls:\n",
    "        # Creating a new Chrome session\n",
    "        driver = webdriver.Chrome(PATH)\n",
    "        driver.implicitly_wait(30)\n",
    "        driver.get(url)\n",
    "        for i in range(20):\n",
    "            try:\n",
    "                python_button = driver.find_element_by_id('load-more-btn') # Find 'Load more' button\n",
    "                sleep(2)\n",
    "                python_button.click() # Click 'Load more' button to load more articles\n",
    "                sleep(5)\n",
    "            except Exception as e:\n",
    "                print(e)\n",
    "                break\n",
    "        news_category = url.split('/')[-1]\n",
    "        soup = BeautifulSoup(driver.page_source, 'html.parser')     \n",
    "        news_articles = [{'news_headline': headline.find('span', \n",
    "                                                         attrs={\"itemprop\": \"headline\"}).string,\n",
    "                          'news_article': article.find('div', \n",
    "                                                       attrs={\"itemprop\": \"articleBody\"}).string,\n",
    "                          'news_category': news_category}\n",
    "                         \n",
    "                            for headline, article in \n",
    "                             zip(soup.find_all('div', \n",
    "                                               class_=[\"news-card-title news-right-box\"]),\n",
    "                                 soup.find_all('div', \n",
    "                                               class_=[\"news-card-content news-right-box\"]))\n",
    "                        ]\n",
    "        news_data.extend(news_articles)\n",
    "        driver.quit()\n",
    "    df =  pd.DataFrame(news_data)\n",
    "    return df"
   ]
  },
  {
   "cell_type": "code",
   "execution_count": null,
   "metadata": {
    "extensions": {
     "jupyter_dashboards": {
      "version": 1,
      "views": {
       "grid_default": {
        "hidden": true
       },
       "report_default": {}
      }
     }
    }
   },
   "outputs": [],
   "source": [
    "df_news = get_data(source_urls)"
   ]
  },
  {
   "cell_type": "code",
   "execution_count": null,
   "metadata": {
    "extensions": {
     "jupyter_dashboards": {
      "version": 1,
      "views": {
       "grid_default": {
        "col": 0,
        "height": 14,
        "hidden": false,
        "row": 21,
        "width": 4
       },
       "report_default": {}
      }
     }
    }
   },
   "outputs": [],
   "source": [
    "# Printing first 5 rows of data\n",
    "df_news.head()"
   ]
  },
  {
   "cell_type": "code",
   "execution_count": null,
   "metadata": {
    "extensions": {
     "jupyter_dashboards": {
      "version": 1,
      "views": {
       "grid_default": {
        "col": 4,
        "height": 7,
        "hidden": false,
        "row": 21,
        "width": 4
       },
       "report_default": {}
      }
     }
    }
   },
   "outputs": [],
   "source": [
    "# Checking the distribution of each topic in our DataFrame\n",
    "df_news['news_category'].value_counts()"
   ]
  },
  {
   "cell_type": "code",
   "execution_count": null,
   "metadata": {
    "extensions": {
     "jupyter_dashboards": {
      "version": 1,
      "views": {
       "grid_default": {
        "hidden": true
       },
       "report_default": {}
      }
     }
    }
   },
   "outputs": [],
   "source": [
    "# Saving data into a '.csv' file to prevent redundant overloading of the Inshort's server.\n",
    "df_news.to_csv('data/news.csv', index=False, encoding='utf-8')"
   ]
  },
  {
   "cell_type": "code",
   "execution_count": 4,
   "metadata": {
    "extensions": {
     "jupyter_dashboards": {
      "version": 1,
      "views": {
       "grid_default": {
        "hidden": true
       },
       "report_default": {}
      }
     }
    }
   },
   "outputs": [],
   "source": [
    "df_news = pd.read_csv('data/news.csv')"
   ]
  },
  {
   "cell_type": "markdown",
   "metadata": {
    "extensions": {
     "jupyter_dashboards": {
      "version": 1,
      "views": {
       "grid_default": {
        "col": 8,
        "height": 4,
        "hidden": false,
        "row": 0,
        "width": 4
       },
       "report_default": {}
      }
     }
    }
   },
   "source": [
    "# Text pre-processing\n",
    "\n",
    "_________________________"
   ]
  },
  {
   "cell_type": "code",
   "execution_count": 5,
   "metadata": {
    "extensions": {
     "jupyter_dashboards": {
      "version": 1,
      "views": {
       "grid_default": {
        "hidden": true
       },
       "report_default": {}
      }
     }
    }
   },
   "outputs": [],
   "source": [
    "# Loading one of English language models for spacy\n",
    "nlp = spacy.load('en_core_web_md', parse = True, tag = True, entity = True)\n",
    "tokenizer = ToktokTokenizer()\n",
    "\n",
    "# Saving english stopwords from nltk module in a list\n",
    "stopword_list = nltk.corpus.stopwords.words('english')"
   ]
  },
  {
   "cell_type": "markdown",
   "metadata": {
    "extensions": {
     "jupyter_dashboards": {
      "version": 1,
      "views": {
       "grid_default": {
        "col": 8,
        "height": 4,
        "hidden": false,
        "row": 21,
        "width": 4
       },
       "report_default": {}
      }
     }
    }
   },
   "source": [
    "## Writing helper functions\n",
    "___________________\n"
   ]
  },
  {
   "cell_type": "markdown",
   "metadata": {
    "extensions": {
     "jupyter_dashboards": {
      "version": 1,
      "views": {
       "grid_default": {
        "col": 8,
        "height": 4,
        "hidden": false,
        "row": 25,
        "width": 4
       },
       "report_default": {}
      }
     }
    }
   },
   "source": [
    "### Removing HTML tags\n"
   ]
  },
  {
   "cell_type": "markdown",
   "metadata": {
    "extensions": {
     "jupyter_dashboards": {
      "version": 1,
      "views": {
       "grid_default": {
        "col": 0,
        "height": 4,
        "hidden": false,
        "row": 35,
        "width": 12
       },
       "report_default": {}
      }
     }
    }
   },
   "source": [
    "Let's start off our data preparation by writing some helper functions which we will use to clean the news data. Since HTML tags don't add much value towards understanding and analyzing text, we will get rid of them."
   ]
  },
  {
   "cell_type": "code",
   "execution_count": 6,
   "metadata": {
    "extensions": {
     "jupyter_dashboards": {
      "version": 1,
      "views": {
       "grid_default": {
        "hidden": true
       },
       "report_default": {}
      }
     }
    }
   },
   "outputs": [],
   "source": [
    "def remove_html_tags(text):\n",
    "    soup = BeautifulSoup(text, \"html.parser\")\n",
    "    stripped_text = soup.get_text()\n",
    "    return stripped_text"
   ]
  },
  {
   "cell_type": "markdown",
   "metadata": {
    "extensions": {
     "jupyter_dashboards": {
      "version": 1,
      "views": {
       "grid_default": {
        "col": 4,
        "height": 4,
        "hidden": false,
        "row": 28,
        "width": 4
       },
       "report_default": {}
      }
     }
    }
   },
   "source": [
    "### Removing accented characters"
   ]
  },
  {
   "cell_type": "markdown",
   "metadata": {
    "extensions": {
     "jupyter_dashboards": {
      "version": 1,
      "views": {
       "grid_default": {
        "col": 0,
        "height": 4,
        "hidden": false,
        "row": 39,
        "width": 12
       },
       "report_default": {}
      }
     }
    }
   },
   "source": [
    "While dealing with text data, very often we encounter accented characters like 'é' or 'ó'. Since they may not be useful while working with English language, we will create function for converting them into unaccented counterparts."
   ]
  },
  {
   "cell_type": "code",
   "execution_count": 7,
   "metadata": {
    "extensions": {
     "jupyter_dashboards": {
      "version": 1,
      "views": {
       "grid_default": {
        "hidden": true
       },
       "report_default": {}
      }
     }
    }
   },
   "outputs": [],
   "source": [
    "def remove_accented_chars(text):\n",
    "    text = unicodedata.normalize('NFKD', text).encode('ascii', 'ignore').decode('utf-8', 'ignore')\n",
    "    return text"
   ]
  },
  {
   "cell_type": "markdown",
   "metadata": {
    "extensions": {
     "jupyter_dashboards": {
      "version": 1,
      "views": {
       "grid_default": {
        "col": 8,
        "height": 4,
        "hidden": false,
        "row": 29,
        "width": 4
       },
       "report_default": {}
      }
     }
    }
   },
   "source": [
    "### Expanding contractions"
   ]
  },
  {
   "cell_type": "markdown",
   "metadata": {
    "extensions": {
     "jupyter_dashboards": {
      "version": 1,
      "views": {
       "grid_default": {
        "col": 0,
        "height": 4,
        "hidden": false,
        "row": 43,
        "width": 12
       },
       "report_default": {}
      }
     }
    }
   },
   "source": [
    "As a next step, let's create a function for dealing with contractions. Contractions are shortened versions of words or syllabes which often exist in written or spoken forms in English language. The typical examples would be <b>do not</b> to <b>don't</b> and <b>I would</b> to <b>I'd</b>. For this purpose we will utilize function and contractions dictionary written by Dipanjan S - Data Scientist working for Intel company, author of <i>Text analytics with Python</i> and <i>Practical machine learning with Python</i>.\n",
    "\n",
    "<a href=\"https://github.com/dipanjanS/practical-machine-learning-with-python/tree/master/bonus%20content/nlp%20proven%20approach\">Contraction dictionary by Dipanjan S</a>"
   ]
  },
  {
   "cell_type": "code",
   "execution_count": 8,
   "metadata": {
    "extensions": {
     "jupyter_dashboards": {
      "version": 1,
      "views": {
       "grid_default": {
        "hidden": true
       },
       "report_default": {}
      }
     }
    }
   },
   "outputs": [],
   "source": [
    "def expand_contractions(text, contraction_mapping=CONTRACTION_MAP):\n",
    "    \n",
    "    contractions_pattern = re.compile('({})'.format('|'.join(contraction_mapping.keys())), \n",
    "                                      flags=re.IGNORECASE|re.DOTALL)\n",
    "    def expand_match(contraction):\n",
    "        match = contraction.group(0)\n",
    "        first_char = match[0]\n",
    "        expanded_contraction = contraction_mapping.get(match)\\\n",
    "                                if contraction_mapping.get(match)\\\n",
    "                                else contraction_mapping.get(match.lower())                       \n",
    "        expanded_contraction = first_char+expanded_contraction[1:]\n",
    "        return expanded_contraction\n",
    "        \n",
    "    expanded_text = contractions_pattern.sub(expand_match, text)\n",
    "    expanded_text = re.sub(\"'\", \"\", expanded_text)\n",
    "    return expanded_text"
   ]
  },
  {
   "cell_type": "markdown",
   "metadata": {
    "extensions": {
     "jupyter_dashboards": {
      "version": 1,
      "views": {
       "grid_default": {
        "col": 0,
        "height": 4,
        "hidden": false,
        "row": 47,
        "width": 4
       },
       "report_default": {}
      }
     }
    }
   },
   "source": [
    "### Removing special characters"
   ]
  },
  {
   "cell_type": "markdown",
   "metadata": {
    "extensions": {
     "jupyter_dashboards": {
      "version": 1,
      "views": {
       "grid_default": {
        "col": 0,
        "height": 4,
        "hidden": false,
        "row": 51,
        "width": 12
       },
       "report_default": {}
      }
     }
    }
   },
   "source": [
    "Special characters are usually non-alphanumeric or even numeric characters which constitute to the extra noise in unstructured text data. We will create a function based on simple regular expressions which will get rid of them."
   ]
  },
  {
   "cell_type": "code",
   "execution_count": 9,
   "metadata": {
    "extensions": {
     "jupyter_dashboards": {
      "version": 1,
      "views": {
       "grid_default": {
        "hidden": true
       },
       "report_default": {}
      }
     }
    }
   },
   "outputs": [],
   "source": [
    "def remove_special_characters(text, remove_digits=False):\n",
    "    pattern = r'[^a-zA-z0-9\\s]' if not remove_digits else r'[^a-zA-z\\s]'\n",
    "    text = re.sub(pattern, '', text)\n",
    "    return text"
   ]
  },
  {
   "cell_type": "markdown",
   "metadata": {
    "extensions": {
     "jupyter_dashboards": {
      "version": 1,
      "views": {
       "grid_default": {
        "col": 4,
        "height": 4,
        "hidden": false,
        "row": 47,
        "width": 4
       },
       "report_default": {}
      }
     }
    }
   },
   "source": [
    "### Lemmatization"
   ]
  },
  {
   "cell_type": "markdown",
   "metadata": {
    "extensions": {
     "jupyter_dashboards": {
      "version": 1,
      "views": {
       "grid_default": {
        "col": 0,
        "height": 4,
        "hidden": false,
        "row": 55,
        "width": 12
       },
       "report_default": {}
      }
     }
    }
   },
   "source": [
    "In computational linguistics, lemmatisation is the algorithmic process of determining the lemma of a word based on its intended meaning. It depends on correctly identifying the intended part of speech and meaning of a word in a sentence, as well as within the larger context surrounding that sentence, such as neighboring sentences or even an entire document. For this part we will utilize <b>Spacy</b> as it has excellent built-in lemmatizers."
   ]
  },
  {
   "cell_type": "code",
   "execution_count": 10,
   "metadata": {
    "extensions": {
     "jupyter_dashboards": {
      "version": 1,
      "views": {
       "grid_default": {
        "hidden": true
       },
       "report_default": {}
      }
     }
    }
   },
   "outputs": [],
   "source": [
    "def lemmatize_text(text):\n",
    "    text = nlp(text)\n",
    "    text = ' '.join([word.lemma_ if word.lemma_ != '-PRON-' else word.text for word in text])\n",
    "    return text"
   ]
  },
  {
   "cell_type": "markdown",
   "metadata": {
    "extensions": {
     "jupyter_dashboards": {
      "version": 1,
      "views": {
       "grid_default": {
        "col": 8,
        "height": 4,
        "hidden": false,
        "row": 47,
        "width": 4
       },
       "report_default": {}
      }
     }
    }
   },
   "source": [
    "### Removing Stopwords"
   ]
  },
  {
   "cell_type": "markdown",
   "metadata": {
    "extensions": {
     "jupyter_dashboards": {
      "version": 1,
      "views": {
       "grid_default": {
        "col": 0,
        "height": 4,
        "hidden": false,
        "row": 59,
        "width": 12
       },
       "report_default": {}
      }
     }
    }
   },
   "source": [
    "In computing, <i>stopwords</i> are words which are filtered out before or after processing of natural language data. Though stopwords usually refer to the most common words in a language, there is no single universal list of stop words used by all natural language processing tools, and indeed not all tools even use such a list. Some tools specifically avoid removing these stop words to support phrase search. Some examples include <b>a</b>, <b>an</b>, <b>the</b>, <b>and</b>."
   ]
  },
  {
   "cell_type": "code",
   "execution_count": 11,
   "metadata": {
    "extensions": {
     "jupyter_dashboards": {
      "version": 1,
      "views": {
       "grid_default": {
        "hidden": true
       },
       "report_default": {}
      }
     }
    }
   },
   "outputs": [],
   "source": [
    "def remove_stopwords(text, is_lower_case=False):\n",
    "    tokens = tokenizer.tokenize(text)\n",
    "    tokens = [token.strip() for token in tokens]\n",
    "    if is_lower_case:\n",
    "        filtered_tokens = [token for token in tokens if token not in stopword_list]\n",
    "    else:\n",
    "        filtered_tokens = [token for token in tokens if token.lower() not in stopword_list]\n",
    "    filtered_text = ' '.join(filtered_tokens)    \n",
    "    return filtered_text"
   ]
  },
  {
   "cell_type": "markdown",
   "metadata": {
    "extensions": {
     "jupyter_dashboards": {
      "version": 1,
      "views": {
       "grid_default": {
        "col": 0,
        "height": 4,
        "hidden": false,
        "row": 63,
        "width": 4
       },
       "report_default": {}
      }
     }
    }
   },
   "source": [
    "### Combining above functions - building a Text Normalizer"
   ]
  },
  {
   "cell_type": "code",
   "execution_count": 12,
   "metadata": {
    "extensions": {
     "jupyter_dashboards": {
      "version": 1,
      "views": {
       "grid_default": {
        "hidden": true
       },
       "report_default": {}
      }
     }
    }
   },
   "outputs": [],
   "source": [
    "def normalize_corpus(corpus, html_stripping=True, contraction_expansion=True,\n",
    "                     accented_char_removal=True, text_lower_case=True, \n",
    "                     text_lemmatization=True, special_char_removal=True, \n",
    "                     stopword_removal=True, remove_digits=False):\n",
    "    \n",
    "    normalized_corpus = []\n",
    "    # Normalizing each document in the corpus\n",
    "    for doc in corpus:\n",
    "        # Stripping HTML\n",
    "        if html_stripping:\n",
    "            doc = remove_html_tags(doc)\n",
    "        # Removing accented characters\n",
    "        if accented_char_removal:\n",
    "            doc = remove_accented_chars(doc)\n",
    "        # Expanding contractions    \n",
    "        if contraction_expansion:\n",
    "            doc = expand_contractions(doc)\n",
    "        # Lowering the text    \n",
    "        if text_lower_case:\n",
    "            doc = doc.lower()\n",
    "        # Removing extra newlines\n",
    "        doc = re.sub(r'[\\r|\\n|\\r\\n]+', ' ',doc)\n",
    "        # Lemmatizing text\n",
    "        if text_lemmatization:\n",
    "            doc = lemmatize_text(doc)\n",
    "        # Removing special characters and\\or digits    \n",
    "        if special_char_removal:\n",
    "            # Inserting spaces between special characters to isolate them    \n",
    "            special_char_pattern = re.compile(r'([{.(-)!}])')\n",
    "            doc = special_char_pattern.sub(\" \\\\1 \", doc)\n",
    "            doc = remove_special_characters(doc, remove_digits=remove_digits)  \n",
    "        # Removing extra whitespace\n",
    "        doc = re.sub(' +', ' ', doc)\n",
    "        # Removing stopwords\n",
    "        if stopword_removal:\n",
    "            doc = remove_stopwords(doc, is_lower_case=text_lower_case)\n",
    "            \n",
    "        normalized_corpus.append(doc)\n",
    "        \n",
    "    return normalized_corpus"
   ]
  },
  {
   "cell_type": "code",
   "execution_count": 13,
   "metadata": {
    "extensions": {
     "jupyter_dashboards": {
      "version": 1,
      "views": {
       "grid_default": {
        "col": 4,
        "height": 17,
        "hidden": false,
        "row": 63,
        "width": 5
       },
       "report_default": {}
      }
     }
    }
   },
   "outputs": [
    {
     "data": {
      "text/html": [
       "<div>\n",
       "<style scoped>\n",
       "    .dataframe tbody tr th:only-of-type {\n",
       "        vertical-align: middle;\n",
       "    }\n",
       "\n",
       "    .dataframe tbody tr th {\n",
       "        vertical-align: top;\n",
       "    }\n",
       "\n",
       "    .dataframe thead th {\n",
       "        text-align: right;\n",
       "    }\n",
       "</style>\n",
       "<table border=\"1\" class=\"dataframe\">\n",
       "  <thead>\n",
       "    <tr style=\"text-align: right;\">\n",
       "      <th></th>\n",
       "      <th>news_article</th>\n",
       "      <th>news_category</th>\n",
       "      <th>news_headline</th>\n",
       "      <th>full_text</th>\n",
       "      <th>clean_text</th>\n",
       "    </tr>\n",
       "  </thead>\n",
       "  <tbody>\n",
       "    <tr>\n",
       "      <th>0</th>\n",
       "      <td>When deciding the right term insurance plan, c...</td>\n",
       "      <td>business</td>\n",
       "      <td>Max Life Insurance delivering high claims paid...</td>\n",
       "      <td>Max Life Insurance delivering high claims paid...</td>\n",
       "      <td>max life insurance deliver high claim pay 4 ye...</td>\n",
       "    </tr>\n",
       "    <tr>\n",
       "      <th>1</th>\n",
       "      <td>Andhra Pradesh has topped the ease of doing bu...</td>\n",
       "      <td>business</td>\n",
       "      <td>Andhra Pradesh tops ease of doing business ran...</td>\n",
       "      <td>Andhra Pradesh tops ease of doing business ran...</td>\n",
       "      <td>andhra pradesh top ease business rank 2nd year...</td>\n",
       "    </tr>\n",
       "    <tr>\n",
       "      <th>2</th>\n",
       "      <td>Rajinikanth's wife Latha Rajinikanth will have...</td>\n",
       "      <td>business</td>\n",
       "      <td>Rajinikanth's wife to face trial for fraud ove...</td>\n",
       "      <td>Rajinikanth's wife to face trial for fraud ove...</td>\n",
       "      <td>rajinikanth wife face trial fraud 6 cr unpaid ...</td>\n",
       "    </tr>\n",
       "    <tr>\n",
       "      <th>3</th>\n",
       "      <td>Online payments company PayPal's UK unit sent ...</td>\n",
       "      <td>business</td>\n",
       "      <td>Being dead is breach of contract, PayPal tells...</td>\n",
       "      <td>Being dead is breach of contract, PayPal tells...</td>\n",
       "      <td>dead breach contract paypal tell deceased pati...</td>\n",
       "    </tr>\n",
       "    <tr>\n",
       "      <th>4</th>\n",
       "      <td>The world's fifth largest smartphone seller, C...</td>\n",
       "      <td>business</td>\n",
       "      <td>World's 5th largest smartphone seller Xiaomi m...</td>\n",
       "      <td>World's 5th largest smartphone seller Xiaomi m...</td>\n",
       "      <td>world 5th large smartphone seller xiaomi make ...</td>\n",
       "    </tr>\n",
       "  </tbody>\n",
       "</table>\n",
       "</div>"
      ],
      "text/plain": [
       "                                        news_article news_category  \\\n",
       "0  When deciding the right term insurance plan, c...      business   \n",
       "1  Andhra Pradesh has topped the ease of doing bu...      business   \n",
       "2  Rajinikanth's wife Latha Rajinikanth will have...      business   \n",
       "3  Online payments company PayPal's UK unit sent ...      business   \n",
       "4  The world's fifth largest smartphone seller, C...      business   \n",
       "\n",
       "                                       news_headline  \\\n",
       "0  Max Life Insurance delivering high claims paid...   \n",
       "1  Andhra Pradesh tops ease of doing business ran...   \n",
       "2  Rajinikanth's wife to face trial for fraud ove...   \n",
       "3  Being dead is breach of contract, PayPal tells...   \n",
       "4  World's 5th largest smartphone seller Xiaomi m...   \n",
       "\n",
       "                                           full_text  \\\n",
       "0  Max Life Insurance delivering high claims paid...   \n",
       "1  Andhra Pradesh tops ease of doing business ran...   \n",
       "2  Rajinikanth's wife to face trial for fraud ove...   \n",
       "3  Being dead is breach of contract, PayPal tells...   \n",
       "4  World's 5th largest smartphone seller Xiaomi m...   \n",
       "\n",
       "                                          clean_text  \n",
       "0  max life insurance deliver high claim pay 4 ye...  \n",
       "1  andhra pradesh top ease business rank 2nd year...  \n",
       "2  rajinikanth wife face trial fraud 6 cr unpaid ...  \n",
       "3  dead breach contract paypal tell deceased pati...  \n",
       "4  world 5th large smartphone seller xiaomi make ...  "
      ]
     },
     "execution_count": 13,
     "metadata": {},
     "output_type": "execute_result"
    }
   ],
   "source": [
    "# Combining headline and article text\n",
    "df_news['full_text'] = df_news[\"news_headline\"].map(str)+ '. ' + df_news[\"news_article\"]\n",
    "\n",
    "# Pre-processing text and store the same\n",
    "df_news['clean_text'] = normalize_corpus(df_news['full_text'])\n",
    "norm_corpus = list(df_news['clean_text'])\n",
    "\n",
    "# Displaying first 5 rows\n",
    "df_news.head()"
   ]
  },
  {
   "cell_type": "code",
   "execution_count": 14,
   "metadata": {
    "extensions": {
     "jupyter_dashboards": {
      "version": 1,
      "views": {
       "grid_default": {
        "hidden": true
       },
       "report_default": {}
      }
     }
    }
   },
   "outputs": [],
   "source": [
    "# Saving preprocessed DataFrame into .csv file\n",
    "df_news.to_csv('data/news_preprocessed.csv', index=False, encoding='utf-8')"
   ]
  },
  {
   "cell_type": "markdown",
   "metadata": {
    "extensions": {
     "jupyter_dashboards": {
      "version": 1,
      "views": {
       "grid_default": {
        "col": 0,
        "height": 4,
        "hidden": false,
        "row": 67,
        "width": 4
       },
       "report_default": {}
      }
     }
    }
   },
   "source": [
    "# Parts of Speech tagging\n",
    "\n",
    "______________________________"
   ]
  },
  {
   "cell_type": "markdown",
   "metadata": {
    "extensions": {
     "jupyter_dashboards": {
      "version": 1,
      "views": {
       "grid_default": {
        "col": 0,
        "height": 16,
        "hidden": false,
        "row": 80,
        "width": 12
       },
       "report_default": {}
      }
     }
    }
   },
   "source": [
    "Parts of speech (POS) are specific lexical categories to which words are assigned, based on their syntactic context and role. Usually, words can fall into one of the following major categories.\n",
    "\n",
    "- <b>Noun</b>: This usually denotes words that depict some object or entity, which may be living or nonliving. Some examples would be fox , dog , book , and so on. The POS tag symbol for nouns is N.\n",
    "\n",
    "- <b>Verb</b>: Verbs are words that are used to describe certain actions, states, or occurrences. There are a wide variety of further subcategories, such as auxiliary, reflexive, and transitive verbs (and many more). Some typical examples of verbs would be running , jumping , read , and write . The POS tag symbol for verbs is V.\n",
    "\n",
    "- <b>Adjective</b>: Adjectives are words used to describe or qualify other words, typically nouns and noun phrases. The phrase beautiful flower has the noun (N) flower which is described or qualified using the adjective (ADJ) beautiful . The POS tag symbol for adjectives is ADJ .\n",
    "\n",
    "- <b>Adverb</b>: Adverbs usually act as modifiers for other words including nouns, adjectives, verbs, or other adverbs. The phrase very beautiful flower has the adverb (ADV) very , which modifies the adjective (ADJ) beautiful , indicating the degree to which the flower is beautiful. The POS tag symbol for adverbs is ADV.\n",
    "\n",
    "Besides these four major categories of parts of speech , there are other categories that occur frequently in the English language. These include pronouns, prepositions, interjections, conjunctions, determiners, and many others. Furthermore, each POS tag like the noun (N) can be further subdivided into categories like singular nouns (NN), singular proper nouns (NNP), and plural nouns (NNS).\n",
    "\n",
    "\n",
    "\n",
    "Since in this Jupyter Notebook we are going to show examples of Parts of Speech tagging and Named Entity Recognition using Spacy with 'en_core_web_md' model, we will apply them on the unprocessed data as it was proved and described in the below article that lowering the case or lemmatizing ruins the precision of these models. \n",
    "\n",
    "\n",
    "<a href='https://medium.com/@dudsdu/named-entity-recognition-for-unstructured-documents-c325d47c7e3a'>Named Entity Recognition for Unstructured Documents</a>"
   ]
  },
  {
   "cell_type": "code",
   "execution_count": 15,
   "metadata": {
    "extensions": {
     "jupyter_dashboards": {
      "version": 1,
      "views": {
       "grid_default": {
        "col": 0,
        "height": 17,
        "hidden": false,
        "row": 96,
        "width": 5
       },
       "report_default": {}
      }
     }
    }
   },
   "outputs": [
    {
     "data": {
      "text/html": [
       "<div>\n",
       "<style scoped>\n",
       "    .dataframe tbody tr th:only-of-type {\n",
       "        vertical-align: middle;\n",
       "    }\n",
       "\n",
       "    .dataframe tbody tr th {\n",
       "        vertical-align: top;\n",
       "    }\n",
       "\n",
       "    .dataframe thead th {\n",
       "        text-align: right;\n",
       "    }\n",
       "</style>\n",
       "<table border=\"1\" class=\"dataframe\">\n",
       "  <thead>\n",
       "    <tr style=\"text-align: right;\">\n",
       "      <th></th>\n",
       "      <th>news_article</th>\n",
       "      <th>news_category</th>\n",
       "      <th>news_headline</th>\n",
       "      <th>full_text</th>\n",
       "      <th>clean_text</th>\n",
       "    </tr>\n",
       "  </thead>\n",
       "  <tbody>\n",
       "    <tr>\n",
       "      <th>0</th>\n",
       "      <td>When deciding the right term insurance plan, c...</td>\n",
       "      <td>business</td>\n",
       "      <td>Max Life Insurance delivering high claims paid...</td>\n",
       "      <td>Max Life Insurance delivering high claims paid...</td>\n",
       "      <td>max life insurance deliver high claim pay 4 ye...</td>\n",
       "    </tr>\n",
       "    <tr>\n",
       "      <th>1</th>\n",
       "      <td>Andhra Pradesh has topped the ease of doing bu...</td>\n",
       "      <td>business</td>\n",
       "      <td>Andhra Pradesh tops ease of doing business ran...</td>\n",
       "      <td>Andhra Pradesh tops ease of doing business ran...</td>\n",
       "      <td>andhra pradesh top ease business rank 2nd year...</td>\n",
       "    </tr>\n",
       "    <tr>\n",
       "      <th>2</th>\n",
       "      <td>Rajinikanth's wife Latha Rajinikanth will have...</td>\n",
       "      <td>business</td>\n",
       "      <td>Rajinikanth's wife to face trial for fraud ove...</td>\n",
       "      <td>Rajinikanth's wife to face trial for fraud ove...</td>\n",
       "      <td>rajinikanth wife face trial fraud 6 cr unpaid ...</td>\n",
       "    </tr>\n",
       "    <tr>\n",
       "      <th>3</th>\n",
       "      <td>Online payments company PayPal's UK unit sent ...</td>\n",
       "      <td>business</td>\n",
       "      <td>Being dead is breach of contract, PayPal tells...</td>\n",
       "      <td>Being dead is breach of contract, PayPal tells...</td>\n",
       "      <td>dead breach contract paypal tell deceased pati...</td>\n",
       "    </tr>\n",
       "    <tr>\n",
       "      <th>4</th>\n",
       "      <td>The world's fifth largest smartphone seller, C...</td>\n",
       "      <td>business</td>\n",
       "      <td>World's 5th largest smartphone seller Xiaomi m...</td>\n",
       "      <td>World's 5th largest smartphone seller Xiaomi m...</td>\n",
       "      <td>world 5th large smartphone seller xiaomi make ...</td>\n",
       "    </tr>\n",
       "  </tbody>\n",
       "</table>\n",
       "</div>"
      ],
      "text/plain": [
       "                                        news_article news_category  \\\n",
       "0  When deciding the right term insurance plan, c...      business   \n",
       "1  Andhra Pradesh has topped the ease of doing bu...      business   \n",
       "2  Rajinikanth's wife Latha Rajinikanth will have...      business   \n",
       "3  Online payments company PayPal's UK unit sent ...      business   \n",
       "4  The world's fifth largest smartphone seller, C...      business   \n",
       "\n",
       "                                       news_headline  \\\n",
       "0  Max Life Insurance delivering high claims paid...   \n",
       "1  Andhra Pradesh tops ease of doing business ran...   \n",
       "2  Rajinikanth's wife to face trial for fraud ove...   \n",
       "3  Being dead is breach of contract, PayPal tells...   \n",
       "4  World's 5th largest smartphone seller Xiaomi m...   \n",
       "\n",
       "                                           full_text  \\\n",
       "0  Max Life Insurance delivering high claims paid...   \n",
       "1  Andhra Pradesh tops ease of doing business ran...   \n",
       "2  Rajinikanth's wife to face trial for fraud ove...   \n",
       "3  Being dead is breach of contract, PayPal tells...   \n",
       "4  World's 5th largest smartphone seller Xiaomi m...   \n",
       "\n",
       "                                          clean_text  \n",
       "0  max life insurance deliver high claim pay 4 ye...  \n",
       "1  andhra pradesh top ease business rank 2nd year...  \n",
       "2  rajinikanth wife face trial fraud 6 cr unpaid ...  \n",
       "3  dead breach contract paypal tell deceased pati...  \n",
       "4  world 5th large smartphone seller xiaomi make ...  "
      ]
     },
     "execution_count": 15,
     "metadata": {},
     "output_type": "execute_result"
    }
   ],
   "source": [
    "# Displaying first 5 rows\n",
    "df_news.head()"
   ]
  },
  {
   "cell_type": "code",
   "execution_count": 16,
   "metadata": {
    "extensions": {
     "jupyter_dashboards": {
      "version": 1,
      "views": {
       "grid_default": {
        "col": 5,
        "height": 12,
        "hidden": false,
        "row": 96,
        "width": 4
       },
       "report_default": {}
      }
     }
    }
   },
   "outputs": [
    {
     "data": {
      "text/html": [
       "<div>\n",
       "<style scoped>\n",
       "    .dataframe tbody tr th:only-of-type {\n",
       "        vertical-align: middle;\n",
       "    }\n",
       "\n",
       "    .dataframe tbody tr th {\n",
       "        vertical-align: top;\n",
       "    }\n",
       "\n",
       "    .dataframe thead th {\n",
       "        text-align: right;\n",
       "    }\n",
       "</style>\n",
       "<table border=\"1\" class=\"dataframe\">\n",
       "  <thead>\n",
       "    <tr style=\"text-align: right;\">\n",
       "      <th></th>\n",
       "      <th>word</th>\n",
       "      <th>simple_POS_tag</th>\n",
       "      <th>simple_POS_tag_description</th>\n",
       "      <th>detailed_POS_tag</th>\n",
       "      <th>detailed_POS_tag_description</th>\n",
       "    </tr>\n",
       "  </thead>\n",
       "  <tbody>\n",
       "    <tr>\n",
       "      <th>0</th>\n",
       "      <td>Our</td>\n",
       "      <td>ADJ</td>\n",
       "      <td>adjective</td>\n",
       "      <td>PRP$</td>\n",
       "      <td>pronoun, possessive</td>\n",
       "    </tr>\n",
       "    <tr>\n",
       "      <th>1</th>\n",
       "      <td>govt</td>\n",
       "      <td>NOUN</td>\n",
       "      <td>noun</td>\n",
       "      <td>NN</td>\n",
       "      <td>noun, singular or mass</td>\n",
       "    </tr>\n",
       "    <tr>\n",
       "      <th>2</th>\n",
       "      <td>'s</td>\n",
       "      <td>PART</td>\n",
       "      <td>particle</td>\n",
       "      <td>POS</td>\n",
       "      <td>possessive ending</td>\n",
       "    </tr>\n",
       "    <tr>\n",
       "      <th>3</th>\n",
       "      <td>performance</td>\n",
       "      <td>NOUN</td>\n",
       "      <td>noun</td>\n",
       "      <td>NN</td>\n",
       "      <td>noun, singular or mass</td>\n",
       "    </tr>\n",
       "    <tr>\n",
       "      <th>4</th>\n",
       "      <td>far</td>\n",
       "      <td>ADV</td>\n",
       "      <td>adverb</td>\n",
       "      <td>RB</td>\n",
       "      <td>adverb</td>\n",
       "    </tr>\n",
       "    <tr>\n",
       "      <th>5</th>\n",
       "      <td>better</td>\n",
       "      <td>ADJ</td>\n",
       "      <td>adjective</td>\n",
       "      <td>JJR</td>\n",
       "      <td>adjective, comparative</td>\n",
       "    </tr>\n",
       "    <tr>\n",
       "      <th>6</th>\n",
       "      <td>than</td>\n",
       "      <td>ADP</td>\n",
       "      <td>adposition</td>\n",
       "      <td>IN</td>\n",
       "      <td>conjunction, subordinating or preposition</td>\n",
       "    </tr>\n",
       "    <tr>\n",
       "      <th>7</th>\n",
       "      <td>Samajwadi</td>\n",
       "      <td>PROPN</td>\n",
       "      <td>proper noun</td>\n",
       "      <td>NNP</td>\n",
       "      <td>noun, proper singular</td>\n",
       "    </tr>\n",
       "    <tr>\n",
       "      <th>8</th>\n",
       "      <td>Party</td>\n",
       "      <td>PROPN</td>\n",
       "      <td>proper noun</td>\n",
       "      <td>NNP</td>\n",
       "      <td>noun, proper singular</td>\n",
       "    </tr>\n",
       "    <tr>\n",
       "      <th>9</th>\n",
       "      <td>:</td>\n",
       "      <td>PUNCT</td>\n",
       "      <td>punctuation</td>\n",
       "      <td>:</td>\n",
       "      <td>punctuation mark, colon or ellipsis</td>\n",
       "    </tr>\n",
       "    <tr>\n",
       "      <th>10</th>\n",
       "      <td>Yogi</td>\n",
       "      <td>PROPN</td>\n",
       "      <td>proper noun</td>\n",
       "      <td>NNP</td>\n",
       "      <td>noun, proper singular</td>\n",
       "    </tr>\n",
       "  </tbody>\n",
       "</table>\n",
       "</div>"
      ],
      "text/plain": [
       "           word simple_POS_tag simple_POS_tag_description detailed_POS_tag  \\\n",
       "0           Our            ADJ                  adjective             PRP$   \n",
       "1          govt           NOUN                       noun               NN   \n",
       "2            's           PART                   particle              POS   \n",
       "3   performance           NOUN                       noun               NN   \n",
       "4           far            ADV                     adverb               RB   \n",
       "5        better            ADJ                  adjective              JJR   \n",
       "6          than            ADP                 adposition               IN   \n",
       "7     Samajwadi          PROPN                proper noun              NNP   \n",
       "8         Party          PROPN                proper noun              NNP   \n",
       "9             :          PUNCT                punctuation                :   \n",
       "10         Yogi          PROPN                proper noun              NNP   \n",
       "\n",
       "                 detailed_POS_tag_description  \n",
       "0                         pronoun, possessive  \n",
       "1                      noun, singular or mass  \n",
       "2                           possessive ending  \n",
       "3                      noun, singular or mass  \n",
       "4                                      adverb  \n",
       "5                      adjective, comparative  \n",
       "6   conjunction, subordinating or preposition  \n",
       "7                       noun, proper singular  \n",
       "8                       noun, proper singular  \n",
       "9         punctuation mark, colon or ellipsis  \n",
       "10                      noun, proper singular  "
      ]
     },
     "execution_count": 16,
     "metadata": {},
     "output_type": "execute_result"
    }
   ],
   "source": [
    "# Randomly selecting exemplary news_headline for POS tagging\n",
    "doc = str(df_news.loc[np.random.choice(np.arange(len(df_news)), 1).item(), 'news_headline'])\n",
    "doc = nlp(doc)\n",
    "\n",
    "# POS tagging\n",
    "pos_tagged = [(word, word.pos_, spacy.explain(word.pos_), word.tag_, spacy.explain(word.tag_)) for word in doc]\n",
    "df_doc = pd.DataFrame(pos_tagged, columns=['word', 'simple_POS_tag', 'simple_POS_tag_description', 'detailed_POS_tag', 'detailed_POS_tag_description'])\n",
    "df_doc"
   ]
  },
  {
   "cell_type": "code",
   "execution_count": 17,
   "metadata": {
    "extensions": {
     "jupyter_dashboards": {
      "version": 1,
      "views": {
       "grid_default": {
        "col": 9,
        "height": 15,
        "hidden": false,
        "row": 63,
        "width": null
       },
       "report_default": {}
      }
     }
    }
   },
   "outputs": [
    {
     "data": {
      "text/html": [
       "<svg xmlns=\"http://www.w3.org/2000/svg\" xmlns:xlink=\"http://www.w3.org/1999/xlink\" id=\"0\" class=\"displacy\" width=\"1800\" height=\"399.5\" style=\"max-width: none; height: 399.5px; color: #000000; background: #ffffff; font-family: Arial\">\n",
       "<text class=\"displacy-token\" fill=\"currentColor\" text-anchor=\"middle\" y=\"309.5\">\n",
       "    <tspan class=\"displacy-word\" fill=\"currentColor\" x=\"50\">Our</tspan>\n",
       "    <tspan class=\"displacy-tag\" dy=\"2em\" fill=\"currentColor\" x=\"50\">ADJ</tspan>\n",
       "</text>\n",
       "\n",
       "<text class=\"displacy-token\" fill=\"currentColor\" text-anchor=\"middle\" y=\"309.5\">\n",
       "    <tspan class=\"displacy-word\" fill=\"currentColor\" x=\"225\">govt</tspan>\n",
       "    <tspan class=\"displacy-tag\" dy=\"2em\" fill=\"currentColor\" x=\"225\">NOUN</tspan>\n",
       "</text>\n",
       "\n",
       "<text class=\"displacy-token\" fill=\"currentColor\" text-anchor=\"middle\" y=\"309.5\">\n",
       "    <tspan class=\"displacy-word\" fill=\"currentColor\" x=\"400\">'s</tspan>\n",
       "    <tspan class=\"displacy-tag\" dy=\"2em\" fill=\"currentColor\" x=\"400\">PART</tspan>\n",
       "</text>\n",
       "\n",
       "<text class=\"displacy-token\" fill=\"currentColor\" text-anchor=\"middle\" y=\"309.5\">\n",
       "    <tspan class=\"displacy-word\" fill=\"currentColor\" x=\"575\">performance</tspan>\n",
       "    <tspan class=\"displacy-tag\" dy=\"2em\" fill=\"currentColor\" x=\"575\">NOUN</tspan>\n",
       "</text>\n",
       "\n",
       "<text class=\"displacy-token\" fill=\"currentColor\" text-anchor=\"middle\" y=\"309.5\">\n",
       "    <tspan class=\"displacy-word\" fill=\"currentColor\" x=\"750\">far</tspan>\n",
       "    <tspan class=\"displacy-tag\" dy=\"2em\" fill=\"currentColor\" x=\"750\">ADV</tspan>\n",
       "</text>\n",
       "\n",
       "<text class=\"displacy-token\" fill=\"currentColor\" text-anchor=\"middle\" y=\"309.5\">\n",
       "    <tspan class=\"displacy-word\" fill=\"currentColor\" x=\"925\">better</tspan>\n",
       "    <tspan class=\"displacy-tag\" dy=\"2em\" fill=\"currentColor\" x=\"925\">ADJ</tspan>\n",
       "</text>\n",
       "\n",
       "<text class=\"displacy-token\" fill=\"currentColor\" text-anchor=\"middle\" y=\"309.5\">\n",
       "    <tspan class=\"displacy-word\" fill=\"currentColor\" x=\"1100\">than</tspan>\n",
       "    <tspan class=\"displacy-tag\" dy=\"2em\" fill=\"currentColor\" x=\"1100\">ADP</tspan>\n",
       "</text>\n",
       "\n",
       "<text class=\"displacy-token\" fill=\"currentColor\" text-anchor=\"middle\" y=\"309.5\">\n",
       "    <tspan class=\"displacy-word\" fill=\"currentColor\" x=\"1275\">Samajwadi</tspan>\n",
       "    <tspan class=\"displacy-tag\" dy=\"2em\" fill=\"currentColor\" x=\"1275\">PROPN</tspan>\n",
       "</text>\n",
       "\n",
       "<text class=\"displacy-token\" fill=\"currentColor\" text-anchor=\"middle\" y=\"309.5\">\n",
       "    <tspan class=\"displacy-word\" fill=\"currentColor\" x=\"1450\">Party:</tspan>\n",
       "    <tspan class=\"displacy-tag\" dy=\"2em\" fill=\"currentColor\" x=\"1450\">PROPN</tspan>\n",
       "</text>\n",
       "\n",
       "<text class=\"displacy-token\" fill=\"currentColor\" text-anchor=\"middle\" y=\"309.5\">\n",
       "    <tspan class=\"displacy-word\" fill=\"currentColor\" x=\"1625\">Yogi</tspan>\n",
       "    <tspan class=\"displacy-tag\" dy=\"2em\" fill=\"currentColor\" x=\"1625\">PROPN</tspan>\n",
       "</text>\n",
       "\n",
       "<g class=\"displacy-arrow\">\n",
       "    <path class=\"displacy-arc\" id=\"arrow-0-0\" stroke-width=\"2px\" d=\"M70,264.5 C70,177.0 215.0,177.0 215.0,264.5\" fill=\"none\" stroke=\"currentColor\"/>\n",
       "    <text dy=\"1.25em\" style=\"font-size: 0.8em; letter-spacing: 1px\">\n",
       "        <textPath xlink:href=\"#arrow-0-0\" class=\"displacy-label\" startOffset=\"50%\" fill=\"currentColor\" text-anchor=\"middle\">poss</textPath>\n",
       "    </text>\n",
       "    <path class=\"displacy-arrowhead\" d=\"M70,266.5 L62,254.5 78,254.5\" fill=\"currentColor\"/>\n",
       "</g>\n",
       "\n",
       "<g class=\"displacy-arrow\">\n",
       "    <path class=\"displacy-arc\" id=\"arrow-0-1\" stroke-width=\"2px\" d=\"M245,264.5 C245,89.5 570.0,89.5 570.0,264.5\" fill=\"none\" stroke=\"currentColor\"/>\n",
       "    <text dy=\"1.25em\" style=\"font-size: 0.8em; letter-spacing: 1px\">\n",
       "        <textPath xlink:href=\"#arrow-0-1\" class=\"displacy-label\" startOffset=\"50%\" fill=\"currentColor\" text-anchor=\"middle\">poss</textPath>\n",
       "    </text>\n",
       "    <path class=\"displacy-arrowhead\" d=\"M245,266.5 L237,254.5 253,254.5\" fill=\"currentColor\"/>\n",
       "</g>\n",
       "\n",
       "<g class=\"displacy-arrow\">\n",
       "    <path class=\"displacy-arc\" id=\"arrow-0-2\" stroke-width=\"2px\" d=\"M245,264.5 C245,177.0 390.0,177.0 390.0,264.5\" fill=\"none\" stroke=\"currentColor\"/>\n",
       "    <text dy=\"1.25em\" style=\"font-size: 0.8em; letter-spacing: 1px\">\n",
       "        <textPath xlink:href=\"#arrow-0-2\" class=\"displacy-label\" startOffset=\"50%\" fill=\"currentColor\" text-anchor=\"middle\">case</textPath>\n",
       "    </text>\n",
       "    <path class=\"displacy-arrowhead\" d=\"M390.0,266.5 L398.0,254.5 382.0,254.5\" fill=\"currentColor\"/>\n",
       "</g>\n",
       "\n",
       "<g class=\"displacy-arrow\">\n",
       "    <path class=\"displacy-arc\" id=\"arrow-0-3\" stroke-width=\"2px\" d=\"M770,264.5 C770,177.0 915.0,177.0 915.0,264.5\" fill=\"none\" stroke=\"currentColor\"/>\n",
       "    <text dy=\"1.25em\" style=\"font-size: 0.8em; letter-spacing: 1px\">\n",
       "        <textPath xlink:href=\"#arrow-0-3\" class=\"displacy-label\" startOffset=\"50%\" fill=\"currentColor\" text-anchor=\"middle\">advmod</textPath>\n",
       "    </text>\n",
       "    <path class=\"displacy-arrowhead\" d=\"M770,266.5 L762,254.5 778,254.5\" fill=\"currentColor\"/>\n",
       "</g>\n",
       "\n",
       "<g class=\"displacy-arrow\">\n",
       "    <path class=\"displacy-arc\" id=\"arrow-0-4\" stroke-width=\"2px\" d=\"M595,264.5 C595,89.5 920.0,89.5 920.0,264.5\" fill=\"none\" stroke=\"currentColor\"/>\n",
       "    <text dy=\"1.25em\" style=\"font-size: 0.8em; letter-spacing: 1px\">\n",
       "        <textPath xlink:href=\"#arrow-0-4\" class=\"displacy-label\" startOffset=\"50%\" fill=\"currentColor\" text-anchor=\"middle\">amod</textPath>\n",
       "    </text>\n",
       "    <path class=\"displacy-arrowhead\" d=\"M920.0,266.5 L928.0,254.5 912.0,254.5\" fill=\"currentColor\"/>\n",
       "</g>\n",
       "\n",
       "<g class=\"displacy-arrow\">\n",
       "    <path class=\"displacy-arc\" id=\"arrow-0-5\" stroke-width=\"2px\" d=\"M945,264.5 C945,177.0 1090.0,177.0 1090.0,264.5\" fill=\"none\" stroke=\"currentColor\"/>\n",
       "    <text dy=\"1.25em\" style=\"font-size: 0.8em; letter-spacing: 1px\">\n",
       "        <textPath xlink:href=\"#arrow-0-5\" class=\"displacy-label\" startOffset=\"50%\" fill=\"currentColor\" text-anchor=\"middle\">prep</textPath>\n",
       "    </text>\n",
       "    <path class=\"displacy-arrowhead\" d=\"M1090.0,266.5 L1098.0,254.5 1082.0,254.5\" fill=\"currentColor\"/>\n",
       "</g>\n",
       "\n",
       "<g class=\"displacy-arrow\">\n",
       "    <path class=\"displacy-arc\" id=\"arrow-0-6\" stroke-width=\"2px\" d=\"M1295,264.5 C1295,177.0 1440.0,177.0 1440.0,264.5\" fill=\"none\" stroke=\"currentColor\"/>\n",
       "    <text dy=\"1.25em\" style=\"font-size: 0.8em; letter-spacing: 1px\">\n",
       "        <textPath xlink:href=\"#arrow-0-6\" class=\"displacy-label\" startOffset=\"50%\" fill=\"currentColor\" text-anchor=\"middle\">compound</textPath>\n",
       "    </text>\n",
       "    <path class=\"displacy-arrowhead\" d=\"M1295,266.5 L1287,254.5 1303,254.5\" fill=\"currentColor\"/>\n",
       "</g>\n",
       "\n",
       "<g class=\"displacy-arrow\">\n",
       "    <path class=\"displacy-arc\" id=\"arrow-0-7\" stroke-width=\"2px\" d=\"M1120,264.5 C1120,89.5 1445.0,89.5 1445.0,264.5\" fill=\"none\" stroke=\"currentColor\"/>\n",
       "    <text dy=\"1.25em\" style=\"font-size: 0.8em; letter-spacing: 1px\">\n",
       "        <textPath xlink:href=\"#arrow-0-7\" class=\"displacy-label\" startOffset=\"50%\" fill=\"currentColor\" text-anchor=\"middle\">pobj</textPath>\n",
       "    </text>\n",
       "    <path class=\"displacy-arrowhead\" d=\"M1445.0,266.5 L1453.0,254.5 1437.0,254.5\" fill=\"currentColor\"/>\n",
       "</g>\n",
       "\n",
       "<g class=\"displacy-arrow\">\n",
       "    <path class=\"displacy-arc\" id=\"arrow-0-8\" stroke-width=\"2px\" d=\"M595,264.5 C595,2.0 1625.0,2.0 1625.0,264.5\" fill=\"none\" stroke=\"currentColor\"/>\n",
       "    <text dy=\"1.25em\" style=\"font-size: 0.8em; letter-spacing: 1px\">\n",
       "        <textPath xlink:href=\"#arrow-0-8\" class=\"displacy-label\" startOffset=\"50%\" fill=\"currentColor\" text-anchor=\"middle\">appos</textPath>\n",
       "    </text>\n",
       "    <path class=\"displacy-arrowhead\" d=\"M1625.0,266.5 L1633.0,254.5 1617.0,254.5\" fill=\"currentColor\"/>\n",
       "</g>\n",
       "</svg>"
      ],
      "text/plain": [
       "<IPython.core.display.HTML object>"
      ]
     },
     "metadata": {},
     "output_type": "display_data"
    }
   ],
   "source": [
    "# Importing dependency visualizer that lets us check model's predictions in Jupyter notebook or browser\n",
    "from spacy import displacy\n",
    "\n",
    "displacy.render(doc, style='dep', jupyter = True)"
   ]
  },
  {
   "cell_type": "markdown",
   "metadata": {
    "extensions": {
     "jupyter_dashboards": {
      "version": 1,
      "views": {
       "grid_default": {
        "col": 5,
        "height": 4,
        "hidden": false,
        "row": 108,
        "width": 4
       },
       "report_default": {}
      }
     }
    }
   },
   "source": [
    "# Named Entity Recognition\n",
    "\n",
    "_______________________________"
   ]
  },
  {
   "cell_type": "markdown",
   "metadata": {},
   "source": [
    "Named Entity Recognition (NER) is a process where an algorithm takes a string of text (sentence or paragraph) as input and identifies relevant nouns that are mentioned in that string which more specifically refer to terms that represent real-world objects like people, places, organizations. Named entity recognition, also known as entity chunking/extraction, is a popular technique used in information extraction to identify and segment the named entities and classify or categorize them under various predefined classes. Now, let's check how to find them using Spacy."
   ]
  },
  {
   "cell_type": "code",
   "execution_count": 19,
   "metadata": {},
   "outputs": [
    {
     "data": {
      "text/html": [
       "<div class=\"entities\" style=\"line-height: 2.5\">After \n",
       "<mark class=\"entity\" style=\"background: #7aecec; padding: 0.45em 0.6em; margin: 0 0.25em; line-height: 1; border-radius: 0.35em; box-decoration-break: clone; -webkit-box-decoration-break: clone\">\n",
       "    Harley-Davidson\n",
       "    <span style=\"font-size: 0.8em; font-weight: bold; line-height: 1; border-radius: 0.35em; text-transform: uppercase; vertical-align: middle; margin-left: 0.5rem\">ORG</span>\n",
       "</mark>\n",
       " decided to move some production out of the \n",
       "<mark class=\"entity\" style=\"background: #feca74; padding: 0.45em 0.6em; margin: 0 0.25em; line-height: 1; border-radius: 0.35em; box-decoration-break: clone; -webkit-box-decoration-break: clone\">\n",
       "    US\n",
       "    <span style=\"font-size: 0.8em; font-weight: bold; line-height: 1; border-radius: 0.35em; text-transform: uppercase; vertical-align: middle; margin-left: 0.5rem\">GPE</span>\n",
       "</mark>\n",
       ", President \n",
       "<mark class=\"entity\" style=\"background: #aa9cfc; padding: 0.45em 0.6em; margin: 0 0.25em; line-height: 1; border-radius: 0.35em; box-decoration-break: clone; -webkit-box-decoration-break: clone\">\n",
       "    Donald Trump\n",
       "    <span style=\"font-size: 0.8em; font-weight: bold; line-height: 1; border-radius: 0.35em; text-transform: uppercase; vertical-align: middle; margin-left: 0.5rem\">PERSON</span>\n",
       "</mark>\n",
       " said his administration is working to bring other motorcycle companies to the country. \n",
       "<mark class=\"entity\" style=\"background: #7aecec; padding: 0.45em 0.6em; margin: 0 0.25em; line-height: 1; border-radius: 0.35em; box-decoration-break: clone; -webkit-box-decoration-break: clone\">\n",
       "    Harley\n",
       "    <span style=\"font-size: 0.8em; font-weight: bold; line-height: 1; border-radius: 0.35em; text-transform: uppercase; vertical-align: middle; margin-left: 0.5rem\">ORG</span>\n",
       "</mark>\n",
       " said the decision was taken to avoid retaliatory tariffs being imposed by \n",
       "<mark class=\"entity\" style=\"background: #7aecec; padding: 0.45em 0.6em; margin: 0 0.25em; line-height: 1; border-radius: 0.35em; box-decoration-break: clone; -webkit-box-decoration-break: clone\">\n",
       "    the European Union\n",
       "    <span style=\"font-size: 0.8em; font-weight: bold; line-height: 1; border-radius: 0.35em; text-transform: uppercase; vertical-align: middle; margin-left: 0.5rem\">ORG</span>\n",
       "</mark>\n",
       ". Major motorcycle companies outside the \n",
       "<mark class=\"entity\" style=\"background: #feca74; padding: 0.45em 0.6em; margin: 0 0.25em; line-height: 1; border-radius: 0.35em; box-decoration-break: clone; -webkit-box-decoration-break: clone\">\n",
       "    US\n",
       "    <span style=\"font-size: 0.8em; font-weight: bold; line-height: 1; border-radius: 0.35em; text-transform: uppercase; vertical-align: middle; margin-left: 0.5rem\">GPE</span>\n",
       "</mark>\n",
       " include \n",
       "<mark class=\"entity\" style=\"background: #7aecec; padding: 0.45em 0.6em; margin: 0 0.25em; line-height: 1; border-radius: 0.35em; box-decoration-break: clone; -webkit-box-decoration-break: clone\">\n",
       "    Honda\n",
       "    <span style=\"font-size: 0.8em; font-weight: bold; line-height: 1; border-radius: 0.35em; text-transform: uppercase; vertical-align: middle; margin-left: 0.5rem\">ORG</span>\n",
       "</mark>\n",
       ", \n",
       "<mark class=\"entity\" style=\"background: #7aecec; padding: 0.45em 0.6em; margin: 0 0.25em; line-height: 1; border-radius: 0.35em; box-decoration-break: clone; -webkit-box-decoration-break: clone\">\n",
       "    Yamaha\n",
       "    <span style=\"font-size: 0.8em; font-weight: bold; line-height: 1; border-radius: 0.35em; text-transform: uppercase; vertical-align: middle; margin-left: 0.5rem\">ORG</span>\n",
       "</mark>\n",
       ", \n",
       "<mark class=\"entity\" style=\"background: #bfeeb7; padding: 0.45em 0.6em; margin: 0 0.25em; line-height: 1; border-radius: 0.35em; box-decoration-break: clone; -webkit-box-decoration-break: clone\">\n",
       "    Hero MotoCorp\n",
       "    <span style=\"font-size: 0.8em; font-weight: bold; line-height: 1; border-radius: 0.35em; text-transform: uppercase; vertical-align: middle; margin-left: 0.5rem\">PRODUCT</span>\n",
       "</mark>\n",
       " and \n",
       "<mark class=\"entity\" style=\"background: #7aecec; padding: 0.45em 0.6em; margin: 0 0.25em; line-height: 1; border-radius: 0.35em; box-decoration-break: clone; -webkit-box-decoration-break: clone\">\n",
       "    Bajaj Auto\n",
       "    <span style=\"font-size: 0.8em; font-weight: bold; line-height: 1; border-radius: 0.35em; text-transform: uppercase; vertical-align: middle; margin-left: 0.5rem\">ORG</span>\n",
       "</mark>\n",
       ".</div>"
      ],
      "text/plain": [
       "<IPython.core.display.HTML object>"
      ]
     },
     "metadata": {},
     "output_type": "display_data"
    }
   ],
   "source": [
    "# Randomly selecting exemplary news article for NER \n",
    "doc2 = str(df_news.loc[np.random.choice(np.arange(len(df_news)), 1).item(), 'news_article'])\n",
    "doc2 = nlp(doc2)\n",
    "\n",
    "# Finding Named Entities in the article\n",
    "ne_list = [(word, word.ent_type_) for word in doc2 if word.ent_type_]\n",
    "\n",
    "# Visualizing Named Entities\n",
    "displacy.render(doc2, style='ent', jupyter=True)"
   ]
  },
  {
   "cell_type": "markdown",
   "metadata": {},
   "source": [
    "<b>Example screenshot of NER visualization as Github is not displaying them properly</b>\n",
    "\n",
    "<img src='images/NER_image.png'>"
   ]
  },
  {
   "cell_type": "markdown",
   "metadata": {},
   "source": [
    "Now, let's find out what these entity types exactly mean..."
   ]
  },
  {
   "cell_type": "code",
   "execution_count": 20,
   "metadata": {},
   "outputs": [
    {
     "data": {
      "text/html": [
       "<div>\n",
       "<style scoped>\n",
       "    .dataframe tbody tr th:only-of-type {\n",
       "        vertical-align: middle;\n",
       "    }\n",
       "\n",
       "    .dataframe tbody tr th {\n",
       "        vertical-align: top;\n",
       "    }\n",
       "\n",
       "    .dataframe thead th {\n",
       "        text-align: right;\n",
       "    }\n",
       "</style>\n",
       "<table border=\"1\" class=\"dataframe\">\n",
       "  <thead>\n",
       "    <tr style=\"text-align: right;\">\n",
       "      <th></th>\n",
       "      <th>entity_type</th>\n",
       "      <th>entity_description</th>\n",
       "    </tr>\n",
       "  </thead>\n",
       "  <tbody>\n",
       "    <tr>\n",
       "      <th>0</th>\n",
       "      <td>PRODUCT</td>\n",
       "      <td>Objects, vehicles, foods, etc. (not services)</td>\n",
       "    </tr>\n",
       "    <tr>\n",
       "      <th>1</th>\n",
       "      <td>GPE</td>\n",
       "      <td>Countries, cities, states</td>\n",
       "    </tr>\n",
       "    <tr>\n",
       "      <th>2</th>\n",
       "      <td>PERSON</td>\n",
       "      <td>People, including fictional</td>\n",
       "    </tr>\n",
       "    <tr>\n",
       "      <th>3</th>\n",
       "      <td>ORG</td>\n",
       "      <td>Companies, agencies, institutions, etc.</td>\n",
       "    </tr>\n",
       "  </tbody>\n",
       "</table>\n",
       "</div>"
      ],
      "text/plain": [
       "  entity_type                             entity_description\n",
       "0     PRODUCT  Objects, vehicles, foods, etc. (not services)\n",
       "1         GPE                      Countries, cities, states\n",
       "2      PERSON                    People, including fictional\n",
       "3         ORG        Companies, agencies, institutions, etc."
      ]
     },
     "execution_count": 20,
     "metadata": {},
     "output_type": "execute_result"
    }
   ],
   "source": [
    "# Selecting unique types of Named Enities found by Spacy\n",
    "unique_ne_type = set(tup[1] for tup in ne_list)\n",
    "unique_list = [(ne, spacy.explain(ne)) for ne in unique_ne_type]\n",
    "\n",
    "# Dispalying unique types of Named Entities along with their descriptions\n",
    "df_doc2 = pd.DataFrame(unique_list, columns=['entity_type', 'entity_description'])\n",
    "df_doc2"
   ]
  },
  {
   "cell_type": "markdown",
   "metadata": {},
   "source": [
    "Before delving into the Machine Learning part, let's scan our news corpus and reveal what are the most frequent entities using the following code. "
   ]
  },
  {
   "cell_type": "code",
   "execution_count": 21,
   "metadata": {},
   "outputs": [],
   "source": [
    "# Creating basic pre-processed corpus\n",
    "news_corpus = normalize_corpus(df_news['full_text'], text_lower_case=False, \n",
    "                          text_lemmatization=False, special_char_removal=False)"
   ]
  },
  {
   "cell_type": "code",
   "execution_count": 22,
   "metadata": {},
   "outputs": [],
   "source": [
    "entities_list = []\n",
    "for sentence in news_corpus:\n",
    "    temp_entity_name = ''\n",
    "    temp_named_entity = None\n",
    "    sentence = nlp(sentence)\n",
    "    for word in sentence:\n",
    "        term = word.text\n",
    "        tag = word.ent_type_\n",
    "        if tag:\n",
    "            temp_entity_name = ' '.join([temp_entity_name, term]).strip()\n",
    "            temp_named_entity = (temp_entity_name, tag)\n",
    "        else:\n",
    "            if temp_named_entity:\n",
    "                entities_list.append(temp_named_entity)\n",
    "                temp_entity_name = ''\n",
    "                temp_named_entity = None\n",
    "\n",
    "df_entity = pd.DataFrame(entities_list, columns=['entity_name', 'entity_type'])"
   ]
  },
  {
   "cell_type": "code",
   "execution_count": 23,
   "metadata": {},
   "outputs": [
    {
     "data": {
      "text/html": [
       "<div>\n",
       "<style scoped>\n",
       "    .dataframe tbody tr th:only-of-type {\n",
       "        vertical-align: middle;\n",
       "    }\n",
       "\n",
       "    .dataframe tbody tr th {\n",
       "        vertical-align: top;\n",
       "    }\n",
       "\n",
       "    .dataframe thead th {\n",
       "        text-align: right;\n",
       "    }\n",
       "</style>\n",
       "<table border=\"1\" class=\"dataframe\">\n",
       "  <thead>\n",
       "    <tr style=\"text-align: right;\">\n",
       "      <th></th>\n",
       "      <th>entity_name</th>\n",
       "      <th>entity_type</th>\n",
       "      <th>Count</th>\n",
       "    </tr>\n",
       "  </thead>\n",
       "  <tbody>\n",
       "    <tr>\n",
       "      <th>0</th>\n",
       "      <td>US</td>\n",
       "      <td>GPE</td>\n",
       "      <td>1037</td>\n",
       "    </tr>\n",
       "    <tr>\n",
       "      <th>1</th>\n",
       "      <td>first</td>\n",
       "      <td>ORDINAL</td>\n",
       "      <td>446</td>\n",
       "    </tr>\n",
       "    <tr>\n",
       "      <th>2</th>\n",
       "      <td>India</td>\n",
       "      <td>GPE</td>\n",
       "      <td>436</td>\n",
       "    </tr>\n",
       "    <tr>\n",
       "      <th>3</th>\n",
       "      <td>Congress</td>\n",
       "      <td>ORG</td>\n",
       "      <td>347</td>\n",
       "    </tr>\n",
       "    <tr>\n",
       "      <th>4</th>\n",
       "      <td>Indian</td>\n",
       "      <td>NORP</td>\n",
       "      <td>299</td>\n",
       "    </tr>\n",
       "    <tr>\n",
       "      <th>5</th>\n",
       "      <td>two</td>\n",
       "      <td>CARDINAL</td>\n",
       "      <td>295</td>\n",
       "    </tr>\n",
       "    <tr>\n",
       "      <th>6</th>\n",
       "      <td>Tesla</td>\n",
       "      <td>ORG</td>\n",
       "      <td>190</td>\n",
       "    </tr>\n",
       "    <tr>\n",
       "      <th>7</th>\n",
       "      <td>one</td>\n",
       "      <td>CARDINAL</td>\n",
       "      <td>188</td>\n",
       "    </tr>\n",
       "    <tr>\n",
       "      <th>8</th>\n",
       "      <td>China</td>\n",
       "      <td>GPE</td>\n",
       "      <td>186</td>\n",
       "    </tr>\n",
       "    <tr>\n",
       "      <th>9</th>\n",
       "      <td>UK</td>\n",
       "      <td>GPE</td>\n",
       "      <td>182</td>\n",
       "    </tr>\n",
       "    <tr>\n",
       "      <th>10</th>\n",
       "      <td>Chinese</td>\n",
       "      <td>NORP</td>\n",
       "      <td>164</td>\n",
       "    </tr>\n",
       "    <tr>\n",
       "      <th>11</th>\n",
       "      <td>Facebook</td>\n",
       "      <td>ORG</td>\n",
       "      <td>164</td>\n",
       "    </tr>\n",
       "    <tr>\n",
       "      <th>12</th>\n",
       "      <td>Apple</td>\n",
       "      <td>ORG</td>\n",
       "      <td>161</td>\n",
       "    </tr>\n",
       "    <tr>\n",
       "      <th>13</th>\n",
       "      <td>Google</td>\n",
       "      <td>ORG</td>\n",
       "      <td>139</td>\n",
       "    </tr>\n",
       "    <tr>\n",
       "      <th>14</th>\n",
       "      <td>World Cup</td>\n",
       "      <td>EVENT</td>\n",
       "      <td>129</td>\n",
       "    </tr>\n",
       "  </tbody>\n",
       "</table>\n",
       "</div>"
      ],
      "text/plain": [
       "   entity_name entity_type  Count\n",
       "0           US         GPE   1037\n",
       "1        first     ORDINAL    446\n",
       "2        India         GPE    436\n",
       "3     Congress         ORG    347\n",
       "4       Indian        NORP    299\n",
       "5          two    CARDINAL    295\n",
       "6        Tesla         ORG    190\n",
       "7          one    CARDINAL    188\n",
       "8        China         GPE    186\n",
       "9           UK         GPE    182\n",
       "10     Chinese        NORP    164\n",
       "11    Facebook         ORG    164\n",
       "12       Apple         ORG    161\n",
       "13      Google         ORG    139\n",
       "14   World Cup       EVENT    129"
      ]
     },
     "execution_count": 23,
     "metadata": {},
     "output_type": "execute_result"
    }
   ],
   "source": [
    "df_entity.groupby(by = ['entity_name', 'entity_type']).size().sort_values(ascending = False).reset_index().rename(columns={0: 'Count'})[:15]"
   ]
  },
  {
   "cell_type": "markdown",
   "metadata": {},
   "source": [
    "# Feature Engineering\n",
    "\n",
    "_____________________________"
   ]
  },
  {
   "cell_type": "markdown",
   "metadata": {
    "extensions": {
     "jupyter_dashboards": {
      "version": 1,
      "views": {
       "grid_default": {
        "col": 5,
        "height": 4,
        "hidden": false,
        "row": 112,
        "width": 4
       },
       "report_default": {}
      }
     }
    }
   },
   "source": [
    "In this section we are going to split our dataset into the training and testing subsets and take care of feature engineering. Here, the pre-processed text data will be transformed into feature vectors. We will implement the following different ideas in order to obtain relevant features from our dataset:\n",
    "<br><br>\n",
    "- TF-IDF Vectors as features<br><br>\n",
    "&emsp;&bull;&emsp;Word level<br>\n",
    "&emsp;&bull;&emsp;N-gram level <br><br>\n",
    "- Word Embeddings as features\n"
   ]
  },
  {
   "cell_type": "code",
   "execution_count": 24,
   "metadata": {},
   "outputs": [],
   "source": [
    "X = df_news['clean_text']\n",
    "y = df_news['news_category'].astype('category').cat.codes\n",
    "\n",
    "# Splitting data into training and validation subsets for traditional ML algorithms\n",
    "X_train, X_val, y_train, y_val = train_test_split(X, y, shuffle = True, random_state = 42, test_size = 0.3)\n",
    "\n",
    "\n",
    "# Creating zero/ones matrix indicating article category label for Neural Networks\n",
    "labels_flat = y.values.ravel()\n",
    "labels_count = np.unique(labels_flat).shape[0]\n",
    "\n",
    "# Function for creating zero/ones matrix indicating article category label\n",
    "def dense_to_one_hot(labels_dense, num_classes):\n",
    "    num_labels = labels_dense.shape[0]\n",
    "    index_offset = np.arange(num_labels) * num_classes\n",
    "    labels_one_hot = np.zeros((num_labels, num_classes))\n",
    "    labels_one_hot.flat[[index_offset + labels_dense.ravel()]] = 1\n",
    "    return labels_one_hot\n",
    "\n",
    "\n",
    "labels = dense_to_one_hot(labels_flat, labels_count)\n",
    "labels = labels.astype(np.uint8)\n",
    "\n",
    "# Splitting the data into training and validation subsets for Neural Networks. Setting same seed will ensure\n",
    "# the same sampling\n",
    "\n",
    "X_train, X_val, y_train_net, y_val_net = train_test_split(X, labels, shuffle = True, random_state = 42, test_size = 0.3)"
   ]
  },
  {
   "cell_type": "markdown",
   "metadata": {},
   "source": [
    "## TF-IDF Vectors"
   ]
  },
  {
   "cell_type": "markdown",
   "metadata": {},
   "source": [
    "TF-IDF score represents the relative importance of a term in the document and the entire corpus. TF-IDF score is composed by two terms: first one computes the normalized Term Frequency (TF), the second term is the Inverse Document Frequency (IDF), computed as the logarithm of the number of the documents in the corpus divided by the number of documents where the specific term appears.<br><br>\n",
    "\n",
    "<b>TF(t)</b> =  <span style= \"color:red;\">(Number of times term t appears in a document)</span> / <span style= \"color:red;\">(Total number of terms in the document)</span>\n",
    "\n",
    "<b>IDF(t)</b> =  log_e<span style= \"color:red;\">(Total number of documents</span> / <span style= \"color:red;\">Number of documents with term t in it)</span><br><br>\n",
    "\n",
    "TF-IDF vectors can be generated at different levels of input tokens: words, n-grams and characters, but in this notebook we will limit our research only to word and n-gram levels."
   ]
  },
  {
   "cell_type": "code",
   "execution_count": 25,
   "metadata": {},
   "outputs": [],
   "source": [
    "max_features = 10000\n",
    "\n",
    "# Creating word-level TF-IDF vectors\n",
    "tfidf_word_vect = TfidfVectorizer(max_features = max_features, analyzer='word')\n",
    "tfidf_word_vect.fit(X_train)\n",
    "X_train_word_tfidf = tfidf_word_vect.transform(X_train)\n",
    "X_val_word_tfidf = tfidf_word_vect.transform(X_val)\n",
    "\n",
    "\n",
    "# Creating ngram-level TF-IDF vectors\n",
    "tfidf_ngram_vect = TfidfVectorizer(max_features = max_features, analyzer='word', ngram_range = (2,3))\n",
    "tfidf_ngram_vect.fit(X_train)\n",
    "X_train_ngram_tfidf = tfidf_ngram_vect.transform(X_train)\n",
    "X_val_ngram_tfidf = tfidf_ngram_vect.transform(X_val)"
   ]
  },
  {
   "cell_type": "markdown",
   "metadata": {},
   "source": [
    "## Word Embeddings"
   ]
  },
  {
   "cell_type": "markdown",
   "metadata": {},
   "source": [
    "Word embeddings are a type of word representation that allows words with similar meaning to have a similar representation.The position of a word within the vector space is learned from text and is based on the words that surround the word when it is used. Word embeddings can be trained using the input corpus itself or can be generated using pre-trained word embeddings such as Glove, FastText, and Word2Vec. Any one of them can be downloaded and used as so-called transfer learning. \n",
    "\n",
    "In this task we will utilize pre-trained embeddings from FastText containing 1 million word vectors trained on Wikipedia 2017, UMBC webbase corpus and statmt.org news dataset (16B tokens). They can be downloaded from the below website:\n",
    "\n",
    "<a href=\"https://fasttext.cc/docs/en/english-vectors.html\">FastText pre-trained word embeddings</a>"
   ]
  },
  {
   "cell_type": "code",
   "execution_count": 26,
   "metadata": {},
   "outputs": [],
   "source": [
    "# Loading pre-trained word-embedding vectors\n",
    "\n",
    "embedding_dict = {}\n",
    "\n",
    "for _, line in enumerate(open('../wiki-news-300d-1M.vec')):\n",
    "    values = line.split()\n",
    "    embedding_dict[values[0]] = np.asarray(values[1:], dtype='float32')"
   ]
  },
  {
   "cell_type": "code",
   "execution_count": 27,
   "metadata": {},
   "outputs": [],
   "source": [
    "# Instantiating tokenizer from keras.preprocessing module\n",
    "tokenizer = text.Tokenizer()\n",
    "tokenizer.fit_on_texts(X_train)\n",
    "word_indexes = tokenizer.word_index"
   ]
  },
  {
   "cell_type": "code",
   "execution_count": 28,
   "metadata": {},
   "outputs": [],
   "source": [
    "max_article_length = 60\n",
    "pad_type = trunc_type = 'pre'\n",
    "\n",
    "# Converting text into sequences of tokens, adding padding to ensure equality of vector lenghts\n",
    "X_train_seq =  sequence.pad_sequences(tokenizer.texts_to_sequences(X_train), maxlen = max_article_length, padding = pad_type, truncating = trunc_type)\n",
    "X_val_seq = sequence.pad_sequences(tokenizer.texts_to_sequences(X_val), maxlen = max_article_length, padding = pad_type, truncating = trunc_type)"
   ]
  },
  {
   "cell_type": "markdown",
   "metadata": {},
   "source": [
    "# Building classifiers\n",
    "\n",
    "_______________________________"
   ]
  },
  {
   "cell_type": "markdown",
   "metadata": {},
   "source": [
    "The final step in the text classification framework is to train a classifier using the features created in the previous step. There are many different choices of Machine Learning models which can be used to train a final model. We will implement following different classifiers for this purpose:\n",
    "\n",
    "- Naive Bayes Classifier\n",
    "- Linear Classifier\n",
    "- Support Vector Machine\n",
    "- Convolutional Neural Network (CNN)\n",
    "- Long Short Term Memory Network (LSTM)\n",
    "- Bidirectional LSTM Network (Bi-LSTM)"
   ]
  },
  {
   "cell_type": "markdown",
   "metadata": {},
   "source": [
    "## Naive Bayes Classifier"
   ]
  },
  {
   "cell_type": "markdown",
   "metadata": {},
   "source": [
    "Naive Bayes is a classification technique based on Bayes’ Theorem with an assumption of independence among predictors. A Naive Bayes classifier assumes that the presence of a particular feature in a class is unrelated to the presence of any other feature"
   ]
  },
  {
   "cell_type": "code",
   "execution_count": 29,
   "metadata": {},
   "outputs": [
    {
     "name": "stdout",
     "output_type": "stream",
     "text": [
      "Training accuracy: 0.9270508089696281, Test accuracy: 0.8391793514228988\n"
     ]
    },
    {
     "data": {
      "image/png": "[encoded data removed]",
      "text/plain": [
       "<Figure size 720x720 with 2 Axes>"
      ]
     },
     "metadata": {},
     "output_type": "display_data"
    },
    {
     "name": "stdout",
     "output_type": "stream",
     "text": [
      "True negatives: 158  |  False negatives: 7  |  True positives: 129  |  False positives: 1\n",
      "Classification Report:\n",
      "             precision    recall  f1-score   support\n",
      "\n",
      "          0       0.84      0.95      0.89       167\n",
      "          1       0.77      0.70      0.73       185\n",
      "          2       0.94      0.88      0.91       171\n",
      "          3       0.77      0.73      0.75       168\n",
      "          4       0.87      1.00      0.93       151\n",
      "          5       0.90      0.92      0.91       169\n",
      "          6       0.90      0.94      0.92       161\n",
      "          7       0.77      0.72      0.75       175\n",
      "          8       0.78      0.76      0.77       164\n",
      "\n",
      "avg / total       0.84      0.84      0.84      1511\n",
      "\n"
     ]
    }
   ],
   "source": [
    "# Naive Bayes using word-level TF-IDF vectors\n",
    "naive_clf_word = MultinomialNB()\n",
    "naive_clf_word.fit(X_train_word_tfidf, y_train)\n",
    "\n",
    "print_score(naive_clf_word, X_train_word_tfidf, X_val_word_tfidf, y_train, y_val, auc = False)\n",
    "create_confmat(naive_clf_word, X_val_word_tfidf, y_val, ['Automobile', 'Business', 'Entertainment',\n",
    "                                          'Hatke', 'Politics', 'Science', 'Sports',\n",
    "                                          'Technology', 'World'], size = (10,10), colour = 'Greens')\n",
    "report(naive_clf_word, X_val_word_tfidf, y_val)"
   ]
  },
  {
   "cell_type": "code",
   "execution_count": 30,
   "metadata": {},
   "outputs": [
    {
     "name": "stdout",
     "output_type": "stream",
     "text": [
      "Training accuracy: 0.9253477150156117, Test accuracy: 0.7412309728656519\n"
     ]
    },
    {
     "data": {
      "image/png": "[encoded data removed]",
      "text/plain": [
       "<Figure size 720x720 with 2 Axes>"
      ]
     },
     "metadata": {},
     "output_type": "display_data"
    },
    {
     "name": "stdout",
     "output_type": "stream",
     "text": [
      "True negatives: 137  |  False negatives: 6  |  True positives: 107  |  False positives: 6\n",
      "Classification Report:\n",
      "             precision    recall  f1-score   support\n",
      "\n",
      "          0       0.86      0.82      0.84       167\n",
      "          1       0.68      0.58      0.62       185\n",
      "          2       0.87      0.85      0.86       171\n",
      "          3       0.62      0.57      0.59       168\n",
      "          4       0.66      0.97      0.79       151\n",
      "          5       0.81      0.76      0.78       169\n",
      "          6       0.85      0.91      0.88       161\n",
      "          7       0.70      0.54      0.61       175\n",
      "          8       0.65      0.73      0.69       164\n",
      "\n",
      "avg / total       0.74      0.74      0.74      1511\n",
      "\n"
     ]
    }
   ],
   "source": [
    "# Naive Bayes using ngram-level TF-IDF vectors\n",
    "naive_clf_ngram = MultinomialNB()\n",
    "naive_clf_ngram.fit(X_train_ngram_tfidf, y_train)\n",
    "\n",
    "print_score(naive_clf_ngram, X_train_ngram_tfidf, X_val_ngram_tfidf, y_train, y_val, auc = False)\n",
    "create_confmat(naive_clf_ngram, X_val_ngram_tfidf, y_val, ['Automobile', 'Business', 'Entertainment',\n",
    "                                          'Hatke', 'Politics', 'Science', 'Sports',\n",
    "                                          'Technology', 'World'], size = (10,10), colour = 'Greens')\n",
    "report(naive_clf_ngram, X_val_ngram_tfidf, y_val)"
   ]
  },
  {
   "cell_type": "markdown",
   "metadata": {},
   "source": [
    "## Linear Classifier (Logistic Regression)"
   ]
  },
  {
   "cell_type": "markdown",
   "metadata": {},
   "source": [
    "Logistic regression measures the relationship between the categorical dependent variable and one or more independent variables by estimating probabilities using a logistic/sigmoid function."
   ]
  },
  {
   "cell_type": "code",
   "execution_count": 31,
   "metadata": {},
   "outputs": [
    {
     "name": "stdout",
     "output_type": "stream",
     "text": [
      "Training accuracy: 0.9324439398240136, Test accuracy: 0.8398411647915288\n"
     ]
    },
    {
     "data": {
      "image/png": "[encoded data removed]",
      "text/plain": [
       "<Figure size 720x720 with 2 Axes>"
      ]
     },
     "metadata": {},
     "output_type": "display_data"
    },
    {
     "name": "stdout",
     "output_type": "stream",
     "text": [
      "True negatives: 145  |  False negatives: 5  |  True positives: 136  |  False positives: 8\n",
      "Classification Report:\n",
      "             precision    recall  f1-score   support\n",
      "\n",
      "          0       0.85      0.87      0.86       167\n",
      "          1       0.73      0.74      0.73       185\n",
      "          2       0.94      0.92      0.93       171\n",
      "          3       0.73      0.75      0.74       168\n",
      "          4       0.95      0.97      0.96       151\n",
      "          5       0.90      0.92      0.91       169\n",
      "          6       0.92      0.91      0.92       161\n",
      "          7       0.77      0.74      0.75       175\n",
      "          8       0.78      0.77      0.78       164\n",
      "\n",
      "avg / total       0.84      0.84      0.84      1511\n",
      "\n"
     ]
    }
   ],
   "source": [
    "# Linear Classifier trained on word-level TF-IDF vectors\n",
    "linear_clf_word = LogisticRegression()\n",
    "linear_clf_word.fit(X_train_word_tfidf, y_train)\n",
    "\n",
    "print_score(linear_clf_word, X_train_word_tfidf, X_val_word_tfidf, y_train, y_val, auc = False)\n",
    "create_confmat(linear_clf_word, X_val_word_tfidf, y_val, ['Automobile', 'Business', 'Entertainment',\n",
    "                                          'Hatke', 'Politics', 'Science', 'Sports',\n",
    "                                          'Technology', 'World'], size = (10,10), colour = 'Blues')\n",
    "report(linear_clf_word, X_val_word_tfidf, y_val)"
   ]
  },
  {
   "cell_type": "code",
   "execution_count": 32,
   "metadata": {},
   "outputs": [
    {
     "name": "stdout",
     "output_type": "stream",
     "text": [
      "Training accuracy: 0.930173147885325, Test accuracy: 0.7379219060225016\n"
     ]
    },
    {
     "data": {
      "image/png": "[encoded data removed]",
      "text/plain": [
       "<Figure size 720x720 with 2 Axes>"
      ]
     },
     "metadata": {},
     "output_type": "display_data"
    },
    {
     "name": "stdout",
     "output_type": "stream",
     "text": [
      "True negatives: 130  |  False negatives: 5  |  True positives: 114  |  False positives: 11\n",
      "Classification Report:\n",
      "             precision    recall  f1-score   support\n",
      "\n",
      "          0       0.86      0.78      0.82       167\n",
      "          1       0.63      0.62      0.62       185\n",
      "          2       0.88      0.84      0.86       171\n",
      "          3       0.52      0.65      0.58       168\n",
      "          4       0.86      0.95      0.90       151\n",
      "          5       0.79      0.75      0.77       169\n",
      "          6       0.90      0.85      0.88       161\n",
      "          7       0.67      0.55      0.60       175\n",
      "          8       0.64      0.71      0.67       164\n",
      "\n",
      "avg / total       0.75      0.74      0.74      1511\n",
      "\n"
     ]
    }
   ],
   "source": [
    "# Linear Classifier trained on ngram-level TF-IDF vectors\n",
    "linear_clf_ngram = LogisticRegression()\n",
    "linear_clf_ngram.fit(X_train_ngram_tfidf, y_train)\n",
    "\n",
    "print_score(linear_clf_ngram, X_train_ngram_tfidf, X_val_ngram_tfidf, y_train, y_val, auc = False)\n",
    "create_confmat(linear_clf_ngram, X_val_ngram_tfidf, y_val, ['Automobile', 'Business', 'Entertainment',\n",
    "                                          'Hatke', 'Politics', 'Science', 'Sports',\n",
    "                                          'Technology', 'World'], size = (10,10), colour = 'Blues')\n",
    "report(linear_clf_ngram, X_val_ngram_tfidf, y_val)"
   ]
  },
  {
   "cell_type": "markdown",
   "metadata": {},
   "source": [
    "## Support Vector Machine Classifier"
   ]
  },
  {
   "cell_type": "markdown",
   "metadata": {},
   "source": [
    "“Support Vector Machine” (SVM) is a supervised machine learning algorithm which can be used for both classification or regression challenges. However,  it is mostly used in classification problems. In this algorithm, we plot each data item as a point in n-dimensional space (where n is number of features you have) with the value of each feature being the value of a particular coordinate. Then, we perform classification by finding the hyper-plane that differentiate the classes very well. To use SVM for multi-class classification problem we need to use <b>one-vs-rest</b> approach. This strategy involves training a single classifier per class, with the samples of that class as positive samples and all other samples as negatives."
   ]
  },
  {
   "cell_type": "code",
   "execution_count": 33,
   "metadata": {},
   "outputs": [
    {
     "name": "stdout",
     "output_type": "stream",
     "text": [
      "Training accuracy: 0.9676412148736871, Test accuracy: 0.8332230311052283\n"
     ]
    },
    {
     "data": {
      "image/png": "[encoded data removed]",
      "text/plain": [
       "<Figure size 720x720 with 2 Axes>"
      ]
     },
     "metadata": {},
     "output_type": "display_data"
    },
    {
     "name": "stdout",
     "output_type": "stream",
     "text": [
      "True negatives: 152  |  False negatives: 8  |  True positives: 128  |  False positives: 4\n",
      "Classification Report:\n",
      "             precision    recall  f1-score   support\n",
      "\n",
      "          0       0.85      0.91      0.88       167\n",
      "          1       0.72      0.69      0.71       185\n",
      "          2       0.93      0.92      0.93       171\n",
      "          3       0.74      0.73      0.73       168\n",
      "          4       0.95      0.98      0.96       151\n",
      "          5       0.90      0.89      0.90       169\n",
      "          6       0.91      0.93      0.92       161\n",
      "          7       0.75      0.70      0.72       175\n",
      "          8       0.75      0.79      0.77       164\n",
      "\n",
      "avg / total       0.83      0.83      0.83      1511\n",
      "\n"
     ]
    }
   ],
   "source": [
    "# Linear SVM Classifier using “one-vs-rest” multi-class strategy trained on word-level TF-IDF vectors\n",
    "svc_clf_word = LinearSVC()\n",
    "svc_clf_word.fit(X_train_word_tfidf, y_train)\n",
    "\n",
    "print_score(svc_clf_word, X_train_word_tfidf, X_val_word_tfidf, y_train, y_val, auc = False)\n",
    "create_confmat(svc_clf_word, X_val_word_tfidf, y_val, ['Automobile', 'Business', 'Entertainment',\n",
    "                                          'Hatke', 'Politics', 'Science', 'Sports',\n",
    "                                          'Technology', 'World'], size = (10,10), colour = 'Oranges')\n",
    "report(svc_clf_word, X_val_word_tfidf, y_val)"
   ]
  },
  {
   "cell_type": "code",
   "execution_count": 34,
   "metadata": {},
   "outputs": [
    {
     "name": "stdout",
     "output_type": "stream",
     "text": [
      "Training accuracy: 0.9665058189043428, Test accuracy: 0.7260092653871608\n"
     ]
    },
    {
     "data": {
      "image/png": "[encoded data removed]",
      "text/plain": [
       "<Figure size 720x720 with 2 Axes>"
      ]
     },
     "metadata": {},
     "output_type": "display_data"
    },
    {
     "name": "stdout",
     "output_type": "stream",
     "text": [
      "True negatives: 133  |  False negatives: 9  |  True positives: 111  |  False positives: 9\n",
      "Classification Report:\n",
      "             precision    recall  f1-score   support\n",
      "\n",
      "          0       0.81      0.80      0.80       167\n",
      "          1       0.62      0.60      0.61       185\n",
      "          2       0.84      0.84      0.84       171\n",
      "          3       0.51      0.61      0.56       168\n",
      "          4       0.85      0.95      0.89       151\n",
      "          5       0.82      0.71      0.76       169\n",
      "          6       0.87      0.86      0.86       161\n",
      "          7       0.65      0.51      0.57       175\n",
      "          8       0.64      0.71      0.67       164\n",
      "\n",
      "avg / total       0.73      0.73      0.73      1511\n",
      "\n"
     ]
    }
   ],
   "source": [
    "# Linear SVM Classifier using “one-vs-rest” multi-class strategy trained on ngram-level TF-IDF vectors\n",
    "svc_clf_ngram = LinearSVC()\n",
    "svc_clf_ngram.fit(X_train_ngram_tfidf, y_train)\n",
    "\n",
    "print_score(svc_clf_ngram, X_train_ngram_tfidf, X_val_ngram_tfidf, y_train, y_val, auc = False)\n",
    "create_confmat(svc_clf_ngram, X_val_ngram_tfidf, y_val, ['Automobile', 'Business', 'Entertainment',\n",
    "                                          'Hatke', 'Politics', 'Science', 'Sports',\n",
    "                                          'Technology', 'World'], size = (10,10), colour = 'Oranges')\n",
    "report(svc_clf_ngram, X_val_ngram_tfidf, y_val)"
   ]
  },
  {
   "cell_type": "markdown",
   "metadata": {},
   "source": [
    "## Convolutional Neural Network (CNN)"
   ]
  },
  {
   "cell_type": "markdown",
   "metadata": {},
   "source": [
    "In Convolutional Neural Networks, convolutions over the input layer are used to compute the output. This results in local connections, where each region of the input is connected to a neuron in the output. Each layer applies different filters and combines their results."
   ]
  },
  {
   "cell_type": "markdown",
   "metadata": {},
   "source": [
    "### Setting hyperparameters"
   ]
  },
  {
   "cell_type": "code",
   "execution_count": 35,
   "metadata": {},
   "outputs": [],
   "source": [
    "output_dir = 'model_output/CONV'\n",
    "\n",
    "epochs = 10\n",
    "batch_size = 128\n",
    "\n",
    "n_dim = 128\n",
    "n_unique_words = 20000\n",
    "drop_embed = 0.25\n",
    "\n",
    "n_dense = 256\n",
    "dropout = 0.5\n",
    "\n",
    "n_conv = 256\n",
    "k_conv = 3"
   ]
  },
  {
   "cell_type": "markdown",
   "metadata": {},
   "source": [
    "### Designing CNN architecture"
   ]
  },
  {
   "cell_type": "code",
   "execution_count": 36,
   "metadata": {},
   "outputs": [],
   "source": [
    "model = models.Sequential()\n",
    "model.add(layers.Embedding(n_unique_words, n_dim, input_length = max_article_length))\n",
    "model.add(layers.SpatialDropout1D(drop_embed))\n",
    "model.add(layers.Conv1D(n_conv, k_conv, activation = 'relu'))\n",
    "model.add(layers.GlobalMaxPooling1D())\n",
    "model.add(layers.Dropout(0.5))\n",
    "model.add(layers.Dense(n_dense, activation = 'relu'))\n",
    "model.add(layers.Dropout(dropout))\n",
    "model.add(layers.Dense(len(y.unique()), activation = 'softmax'))"
   ]
  },
  {
   "cell_type": "code",
   "execution_count": 37,
   "metadata": {},
   "outputs": [
    {
     "name": "stdout",
     "output_type": "stream",
     "text": [
      "_________________________________________________________________\n",
      "Layer (type)                 Output Shape              Param #   \n",
      "=================================================================\n",
      "embedding_1 (Embedding)      (None, 60, 128)           2560000   \n",
      "_________________________________________________________________\n",
      "spatial_dropout1d_1 (Spatial (None, 60, 128)           0         \n",
      "_________________________________________________________________\n",
      "conv1d_1 (Conv1D)            (None, 58, 256)           98560     \n",
      "_________________________________________________________________\n",
      "global_max_pooling1d_1 (Glob (None, 256)               0         \n",
      "_________________________________________________________________\n",
      "dropout_1 (Dropout)          (None, 256)               0         \n",
      "_________________________________________________________________\n",
      "dense_1 (Dense)              (None, 256)               65792     \n",
      "_________________________________________________________________\n",
      "dropout_2 (Dropout)          (None, 256)               0         \n",
      "_________________________________________________________________\n",
      "dense_2 (Dense)              (None, 9)                 2313      \n",
      "=================================================================\n",
      "Total params: 2,726,665\n",
      "Trainable params: 2,726,665\n",
      "Non-trainable params: 0\n",
      "_________________________________________________________________\n"
     ]
    }
   ],
   "source": [
    "model.summary()"
   ]
  },
  {
   "cell_type": "markdown",
   "metadata": {},
   "source": [
    "### Configuring model"
   ]
  },
  {
   "cell_type": "code",
   "execution_count": 38,
   "metadata": {},
   "outputs": [],
   "source": [
    "model.compile(loss = 'categorical_crossentropy', optimizer = 'adam', metrics = ['accuracy'])"
   ]
  },
  {
   "cell_type": "code",
   "execution_count": 39,
   "metadata": {},
   "outputs": [],
   "source": [
    "# modelcheckpoint = ModelCheckpoint(filepath = output_dir + \"weights.{epoch:02d}.hdf5\")\n",
    "# if not os.path.exists(output_dir):\n",
    "#     os.makedirs(output_dir)"
   ]
  },
  {
   "cell_type": "markdown",
   "metadata": {},
   "source": [
    "### Training model"
   ]
  },
  {
   "cell_type": "code",
   "execution_count": 40,
   "metadata": {},
   "outputs": [
    {
     "name": "stdout",
     "output_type": "stream",
     "text": [
      "Train on 3523 samples, validate on 1511 samples\n",
      "Epoch 1/10\n",
      "3523/3523 [==============================] - 2s 508us/step - loss: 2.2020 - acc: 0.1164 - val_loss: 2.1835 - val_acc: 0.1370\n",
      "Epoch 2/10\n",
      "3523/3523 [==============================] - 0s 63us/step - loss: 2.1626 - acc: 0.1882 - val_loss: 2.1019 - val_acc: 0.3223\n",
      "Epoch 3/10\n",
      "3523/3523 [==============================] - 0s 63us/step - loss: 1.9385 - acc: 0.3602 - val_loss: 1.6237 - val_acc: 0.5486\n",
      "Epoch 4/10\n",
      "3523/3523 [==============================] - 0s 62us/step - loss: 1.4162 - acc: 0.5637 - val_loss: 1.1361 - val_acc: 0.7022\n",
      "Epoch 5/10\n",
      "3523/3523 [==============================] - 0s 63us/step - loss: 0.9924 - acc: 0.7022 - val_loss: 0.8537 - val_acc: 0.7565\n",
      "Epoch 6/10\n",
      "3523/3523 [==============================] - 0s 63us/step - loss: 0.7348 - acc: 0.7854 - val_loss: 0.6927 - val_acc: 0.7935\n",
      "Epoch 7/10\n",
      "3523/3523 [==============================] - 0s 64us/step - loss: 0.5247 - acc: 0.8527 - val_loss: 0.6337 - val_acc: 0.7955\n",
      "Epoch 8/10\n",
      "3523/3523 [==============================] - 0s 63us/step - loss: 0.3933 - acc: 0.8896 - val_loss: 0.6304 - val_acc: 0.7968\n",
      "Epoch 9/10\n",
      "3523/3523 [==============================] - 0s 64us/step - loss: 0.2997 - acc: 0.9183 - val_loss: 0.6397 - val_acc: 0.8061\n",
      "Epoch 10/10\n",
      "3523/3523 [==============================] - 0s 63us/step - loss: 0.2285 - acc: 0.9324 - val_loss: 0.6552 - val_acc: 0.8034\n"
     ]
    },
    {
     "data": {
      "text/plain": [
       "<keras.callbacks.History at 0x7fda633c2da0>"
      ]
     },
     "execution_count": 40,
     "metadata": {},
     "output_type": "execute_result"
    }
   ],
   "source": [
    "model.fit(X_train_seq, y_train_net, batch_size = batch_size, epochs = epochs, verbose = 1, validation_data=(X_val_seq, y_val_net))"
   ]
  },
  {
   "cell_type": "markdown",
   "metadata": {},
   "source": [
    "## Long Short Term Memory (LSTM)"
   ]
  },
  {
   "cell_type": "markdown",
   "metadata": {},
   "source": [
    "Unlike Feed-forward neural networks in which activation outputs are propagated only in one direction, the activation outputs from neurons propagate in both directions (from inputs to outputs and from outputs to inputs) in Recurrent Neural Networks. This creates loops in the neural network architecture which acts as a ‘memory state’ of the neurons. This state allows the neurons to remember what they have learned so far.\n",
    "\n",
    "The memory state in RNNs gives an advantage over traditional neural networks but a problem called Vanishing Gradient is associated with them. In this problem, while learning with a large number of layers, it becomes really hard for the network to learn and tune the parameters of the earlier layers. To address this problem, A new type of RNNs called LSTMs (Long Short Term Memory) Models have been developed."
   ]
  },
  {
   "cell_type": "markdown",
   "metadata": {},
   "source": [
    "### Setting hyperparameters"
   ]
  },
  {
   "cell_type": "code",
   "execution_count": 41,
   "metadata": {},
   "outputs": [],
   "source": [
    "output_dir = 'model_output/LSTM'\n",
    "\n",
    "epochs = 10\n",
    "batch_size = 128\n",
    "\n",
    "n_dim = 128\n",
    "n_unique_words = 10000\n",
    "drop_embed = 0.4\n",
    "\n",
    "n_lstm = 128\n",
    "drop_lstm = 0.9"
   ]
  },
  {
   "cell_type": "markdown",
   "metadata": {},
   "source": [
    "### Designing LSTM architecture"
   ]
  },
  {
   "cell_type": "code",
   "execution_count": 42,
   "metadata": {},
   "outputs": [],
   "source": [
    "model2 = models.Sequential()\n",
    "model2.add(layers.Embedding(n_unique_words, n_dim, input_length = max_article_length))\n",
    "model2.add(layers.SpatialDropout1D(drop_embed))\n",
    "model2.add(layers.LSTM(n_lstm, dropout = drop_lstm))\n",
    "model2.add(layers.Dense(len(y.unique()), activation = 'softmax'))"
   ]
  },
  {
   "cell_type": "code",
   "execution_count": 43,
   "metadata": {},
   "outputs": [
    {
     "name": "stdout",
     "output_type": "stream",
     "text": [
      "_________________________________________________________________\n",
      "Layer (type)                 Output Shape              Param #   \n",
      "=================================================================\n",
      "embedding_2 (Embedding)      (None, 60, 128)           1280000   \n",
      "_________________________________________________________________\n",
      "spatial_dropout1d_2 (Spatial (None, 60, 128)           0         \n",
      "_________________________________________________________________\n",
      "lstm_1 (LSTM)                (None, 128)               131584    \n",
      "_________________________________________________________________\n",
      "dense_3 (Dense)              (None, 9)                 1161      \n",
      "=================================================================\n",
      "Total params: 1,412,745\n",
      "Trainable params: 1,412,745\n",
      "Non-trainable params: 0\n",
      "_________________________________________________________________\n"
     ]
    }
   ],
   "source": [
    "model2.summary()"
   ]
  },
  {
   "cell_type": "markdown",
   "metadata": {},
   "source": [
    "### Configuring model"
   ]
  },
  {
   "cell_type": "code",
   "execution_count": 44,
   "metadata": {},
   "outputs": [],
   "source": [
    "model2.compile(loss = 'categorical_crossentropy', optimizer = 'adam', metrics = ['accuracy'])"
   ]
  },
  {
   "cell_type": "code",
   "execution_count": 45,
   "metadata": {},
   "outputs": [],
   "source": [
    "# modelcheckpoint = ModelCheckpoint(filepath = output_dir + \"weights.{epoch:02d}.hdf5\")\n",
    "# if not os.path.exists(output_dir):\n",
    "#     os.makedirs(output_dir)"
   ]
  },
  {
   "cell_type": "markdown",
   "metadata": {},
   "source": [
    "### Training model"
   ]
  },
  {
   "cell_type": "code",
   "execution_count": 46,
   "metadata": {},
   "outputs": [
    {
     "name": "stdout",
     "output_type": "stream",
     "text": [
      "Train on 3523 samples, validate on 1511 samples\n",
      "Epoch 1/10\n",
      "3523/3523 [==============================] - 4s 1ms/step - loss: 2.1963 - acc: 0.1169 - val_loss: 2.1917 - val_acc: 0.1509\n",
      "Epoch 2/10\n",
      "3523/3523 [==============================] - 2s 691us/step - loss: 2.1751 - acc: 0.1763 - val_loss: 2.1084 - val_acc: 0.3038\n",
      "Epoch 3/10\n",
      "3523/3523 [==============================] - 2s 665us/step - loss: 2.0053 - acc: 0.2478 - val_loss: 1.8022 - val_acc: 0.3230\n",
      "Epoch 4/10\n",
      "3523/3523 [==============================] - 2s 689us/step - loss: 1.7703 - acc: 0.3480 - val_loss: 1.5750 - val_acc: 0.3812\n",
      "Epoch 5/10\n",
      "3523/3523 [==============================] - 2s 703us/step - loss: 1.5587 - acc: 0.4170 - val_loss: 1.3440 - val_acc: 0.5156\n",
      "Epoch 6/10\n",
      "3523/3523 [==============================] - 2s 706us/step - loss: 1.3960 - acc: 0.4891 - val_loss: 1.1915 - val_acc: 0.5354\n",
      "Epoch 7/10\n",
      "3523/3523 [==============================] - 2s 701us/step - loss: 1.2121 - acc: 0.5527 - val_loss: 1.0937 - val_acc: 0.5817\n",
      "Epoch 8/10\n",
      "3523/3523 [==============================] - 2s 688us/step - loss: 1.0695 - acc: 0.5975 - val_loss: 0.9716 - val_acc: 0.6559\n",
      "Epoch 9/10\n",
      "3523/3523 [==============================] - 2s 690us/step - loss: 0.9343 - acc: 0.6599 - val_loss: 0.9321 - val_acc: 0.6903\n",
      "Epoch 10/10\n",
      "3523/3523 [==============================] - 2s 694us/step - loss: 0.8311 - acc: 0.6994 - val_loss: 0.8219 - val_acc: 0.7320\n"
     ]
    },
    {
     "data": {
      "text/plain": [
       "<keras.callbacks.History at 0x7fda633baf28>"
      ]
     },
     "execution_count": 46,
     "metadata": {},
     "output_type": "execute_result"
    }
   ],
   "source": [
    "model2.fit(X_train_seq, y_train_net, batch_size = batch_size, epochs = epochs, verbose = 1, validation_data=(X_val_seq, y_val_net))"
   ]
  },
  {
   "cell_type": "markdown",
   "metadata": {},
   "source": [
    "## Bi-Directional LSTM"
   ]
  },
  {
   "cell_type": "markdown",
   "metadata": {},
   "source": [
    "LSTM in its core preserves information from inputs that have already passed through it using the hidden state.\n",
    "Unidirectional LSTM only preserves information from the past because the only inputs it has seen are from the past.\n",
    "\n",
    "Bi-Directional LSTM will run inputs in two ways, one from past to future and one from future to past and what differs this approach from unidirectional is that in the LSTM that runs backwards we preserve information from the future and using the two hidden states combined we are able in any point in time to preserve information from both past and future. Let's check if they will achieve better prediction accuracy in our case."
   ]
  },
  {
   "cell_type": "markdown",
   "metadata": {},
   "source": [
    "### Setting hyperparameters"
   ]
  },
  {
   "cell_type": "code",
   "execution_count": 47,
   "metadata": {},
   "outputs": [],
   "source": [
    "output_dir = 'model_output/biLSTM'\n",
    "\n",
    "epochs = 10\n",
    "batch_size = 128\n",
    "\n",
    "n_dim = 128\n",
    "n_unique_words = 5000\n",
    "drop_embed = 0.4\n",
    "\n",
    "n_lstm = 256\n",
    "drop_lstm = 0.5"
   ]
  },
  {
   "cell_type": "markdown",
   "metadata": {},
   "source": [
    "### Designing Bi-Directional LSTM architecture"
   ]
  },
  {
   "cell_type": "code",
   "execution_count": 48,
   "metadata": {},
   "outputs": [],
   "source": [
    "model3 = models.Sequential()\n",
    "model3.add(layers.Embedding(n_unique_words, n_dim, input_length = max_article_length))\n",
    "model3.add(layers.SpatialDropout1D(drop_embed))\n",
    "model3.add(layers.wrappers.Bidirectional(layers.LSTM(n_lstm, dropout = drop_lstm)))\n",
    "model3.add(layers.Dense(len(y.unique()), activation = 'softmax'))"
   ]
  },
  {
   "cell_type": "code",
   "execution_count": 49,
   "metadata": {},
   "outputs": [
    {
     "name": "stdout",
     "output_type": "stream",
     "text": [
      "_________________________________________________________________\n",
      "Layer (type)                 Output Shape              Param #   \n",
      "=================================================================\n",
      "embedding_3 (Embedding)      (None, 60, 128)           640000    \n",
      "_________________________________________________________________\n",
      "spatial_dropout1d_3 (Spatial (None, 60, 128)           0         \n",
      "_________________________________________________________________\n",
      "bidirectional_1 (Bidirection (None, 512)               788480    \n",
      "_________________________________________________________________\n",
      "dense_4 (Dense)              (None, 9)                 4617      \n",
      "=================================================================\n",
      "Total params: 1,433,097\n",
      "Trainable params: 1,433,097\n",
      "Non-trainable params: 0\n",
      "_________________________________________________________________\n"
     ]
    }
   ],
   "source": [
    "model3.summary()"
   ]
  },
  {
   "cell_type": "markdown",
   "metadata": {},
   "source": [
    "### Configuring model"
   ]
  },
  {
   "cell_type": "code",
   "execution_count": 50,
   "metadata": {},
   "outputs": [],
   "source": [
    "model3.compile(loss = 'categorical_crossentropy', optimizer = 'adam', metrics = ['accuracy'])"
   ]
  },
  {
   "cell_type": "code",
   "execution_count": 51,
   "metadata": {},
   "outputs": [],
   "source": [
    "# modelcheckpoint = ModelCheckpoint(filepath = output_dir + \"weights.{epoch:02d}.hdf5\")\n",
    "# if not os.path.exists(output_dir):\n",
    "#     os.makedirs(output_dir)"
   ]
  },
  {
   "cell_type": "markdown",
   "metadata": {},
   "source": [
    "### Training model"
   ]
  },
  {
   "cell_type": "code",
   "execution_count": 52,
   "metadata": {},
   "outputs": [
    {
     "name": "stdout",
     "output_type": "stream",
     "text": [
      "Train on 3523 samples, validate on 1511 samples\n",
      "Epoch 1/10\n",
      "3523/3523 [==============================] - 7s 2ms/step - loss: 2.1756 - acc: 0.1587 - val_loss: 2.0024 - val_acc: 0.3349\n",
      "Epoch 2/10\n",
      "3523/3523 [==============================] - 4s 1ms/step - loss: 1.6605 - acc: 0.3991 - val_loss: 1.2943 - val_acc: 0.5255\n",
      "Epoch 3/10\n",
      "3523/3523 [==============================] - 4s 1ms/step - loss: 1.1161 - acc: 0.5969 - val_loss: 0.9361 - val_acc: 0.6658\n",
      "Epoch 4/10\n",
      "3523/3523 [==============================] - 4s 1ms/step - loss: 0.7900 - acc: 0.7187 - val_loss: 0.8386 - val_acc: 0.7081\n",
      "Epoch 5/10\n",
      "3523/3523 [==============================] - 4s 1ms/step - loss: 0.6765 - acc: 0.7709 - val_loss: 0.8642 - val_acc: 0.7095\n",
      "Epoch 6/10\n",
      "3523/3523 [==============================] - 4s 1ms/step - loss: 0.5505 - acc: 0.8155 - val_loss: 0.8507 - val_acc: 0.7373\n",
      "Epoch 7/10\n",
      "3523/3523 [==============================] - 4s 1ms/step - loss: 0.4688 - acc: 0.8527 - val_loss: 0.8196 - val_acc: 0.7426\n",
      "Epoch 8/10\n",
      "3523/3523 [==============================] - 4s 1ms/step - loss: 0.4227 - acc: 0.8743 - val_loss: 0.7844 - val_acc: 0.7591\n",
      "Epoch 9/10\n",
      "3523/3523 [==============================] - 4s 1ms/step - loss: 0.4427 - acc: 0.8629 - val_loss: 0.8253 - val_acc: 0.7485\n",
      "Epoch 10/10\n",
      "3523/3523 [==============================] - 4s 1ms/step - loss: 0.4008 - acc: 0.8802 - val_loss: 0.8237 - val_acc: 0.7498\n"
     ]
    },
    {
     "data": {
      "text/plain": [
       "<keras.callbacks.History at 0x7fda40727940>"
      ]
     },
     "execution_count": 52,
     "metadata": {},
     "output_type": "execute_result"
    }
   ],
   "source": [
    "model3.fit(X_train_seq, y_train_net, batch_size = batch_size, epochs = epochs, verbose = 1, validation_data=(X_val_seq, y_val_net))"
   ]
  },
  {
   "cell_type": "markdown",
   "metadata": {},
   "source": [
    "# Conclusion"
   ]
  },
  {
   "cell_type": "markdown",
   "metadata": {},
   "source": [
    "As we have seen above, the more classical Machine Learning algorithms like Naive Bayes, Logistic Regressic and Support Vector Machine Classifiers achieved better results than CNNs, LSTMs and Bi-Directional LSTMs. This confirms the thesis developed by Google Engineers that for text classification problems where the <b>Number of samples / Number of words per sample</b> ratio is lower than 1500 splitting samples into word n-grams and creating vectors gives higher accuracy rates than using Word Embeddings with RNNs and CNNs.\n",
    "\n",
    "Detailed text classification guide written be Google Engineers can be found on the below website:<br>\n",
    "<a href=\"https://developers.google.com/machine-learning/guides/text-classification/\">Text Classification guide</a>"
   ]
  }
 ],
 "metadata": {
  "extensions": {
   "jupyter_dashboards": {
    "activeView": "grid_default",
    "version": 1,
    "views": {
     "grid_default": {
      "cellMargin": 10,
      "defaultCellHeight": 20,
      "maxColumns": 12,
      "name": "grid",
      "type": "grid"
     },
     "report_default": {
      "name": "report",
      "type": "report"
     }
    }
   }
  },
  "kernelspec": {
   "display_name": "Python 3",
   "language": "python",
   "name": "python3"
  },
  "language_info": {
   "codemirror_mode": {
    "name": "ipython",
    "version": 3
   },
   "file_extension": ".py",
   "mimetype": "text/x-python",
   "name": "python",
   "nbconvert_exporter": "python",
   "pygments_lexer": "ipython3",
   "version": "3.6.6"
  }
 },
 "nbformat": 4,
 "nbformat_minor": 2
}
